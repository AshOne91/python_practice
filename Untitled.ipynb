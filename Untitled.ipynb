{
 "cells": [
  {
   "cell_type": "code",
   "execution_count": 3,
   "id": "6eb5a674-81e7-4a89-83e9-81cbfe7a15ab",
   "metadata": {},
   "outputs": [],
   "source": [
    "!pip install mysql-connector-python -q"
   ]
  },
  {
   "cell_type": "code",
   "execution_count": 7,
   "id": "c5dc8848-7223-4751-88fc-9717809e2dea",
   "metadata": {},
   "outputs": [],
   "source": [
    "from mysql import connector\n",
    "\n",
    "# 접속 관련 매개변수 설정\n",
    "args = {\n",
    "    \"host\": \"localhost\",\n",
    "    \"user\": \"root\",\n",
    "    \"password\": \"root1234\",\n",
    "    \"port\": 3306,\n",
    "    \"database\": \"student_db2\"\n",
    "}\n",
    "\n",
    "conn = connector.connect(**args)  # localhost에 접속해서 접속 객체를 생성\n",
    "cursor = conn.cursor()\n",
    "\n",
    "# SQL 쿼리\n",
    "sql = \"\"\"\n",
    "INSERT INTO student_db2.students(name, age, kor, eng, math)\n",
    "SELECT\n",
    "    CONCAT(\n",
    "        ELT(FLOOR(1 + RAND() * 8), '김', '이', '박', '최', '구', '강', '조', '윤'),\n",
    "        ELT(FLOOR(1 + RAND() * 5), '영희', '철수', '준호', '철호', '미나')\n",
    "    ) AS name,\n",
    "    FLOOR(20 + RAND() * 20) AS age,\n",
    "    FLOOR(70 + RAND() * 31) AS kor,\n",
    "    FLOOR(70 + RAND() * 31) AS eng,\n",
    "    FLOOR(70 + RAND() * 31) AS math\n",
    "\"\"\"\n",
    "\n",
    "# 반복문을 통해 1000번 실행\n",
    "for _ in range(1000):\n",
    "    cursor.execute(sql)\n",
    "\n",
    "conn.commit()  # 커밋\n",
    "\n",
    "cursor.close()  # 커서 닫기\n",
    "conn.close()  # 연결 닫기\n"
   ]
  },
  {
   "cell_type": "code",
   "execution_count": 8,
   "id": "4c6c08c9-f300-4b93-963f-ed3f5dec07ef",
   "metadata": {},
   "outputs": [],
   "source": [
    "from mysql import connector\n",
    "from mysql.connector import Error"
   ]
  },
  {
   "cell_type": "code",
   "execution_count": 11,
   "id": "e04d66f7-f09c-4032-9e29-1d15f8dd59d6",
   "metadata": {},
   "outputs": [],
   "source": [
    "from mysql.connector import connect, Error"
   ]
  },
  {
   "cell_type": "code",
   "execution_count": 12,
   "id": "56eb0e56-e081-4e56-8ae6-cd57f5287448",
   "metadata": {},
   "outputs": [],
   "source": [
    "# 생성자 매개변수 : host, user, password, databases\n",
    "class StudentMng:\n",
    "    def __init__(self, host='localhost', user='root',password='root1234',database='student_db2'):\n",
    "        self.conn = None\n",
    "        self.cursor = None\n",
    "        self.args = { 'host':host, 'user':user, 'password':password,'database':database}\n",
    "    def connection(self):\n",
    "        try:\n",
    "            self.conn = connector.connect(**self.args)\n",
    "            self.cursor = self.conn.cursor()\n",
    "            print(f'접속 성공')\n",
    "        except Exception as e:\n",
    "            print(f'연결 오류: {e}')\n",
    "    def disconnect(self):\n",
    "        if self.cursor:\n",
    "            self.cursor.close()\n",
    "        if self.conn:\n",
    "            self.conn.close()\n",
    "        print('db 연결이 종료되었습니다')\n",
    "    # 데이터추가 인스턴스 메소드\n",
    "    # 모든 학생 조회 인스턴스 메소드\n",
    "    # 학생정보 수정 인스턴스 메소드\n",
    "    # 학생 삭제 인스턴스 메소드"
   ]
  },
  {
   "cell_type": "code",
   "execution_count": 23,
   "id": "49b9e966-60a4-4a52-b380-ad3ab6f7fd30",
   "metadata": {},
   "outputs": [],
   "source": [
    "!pip install streamlit mysql-connector-python -q"
   ]
  },
  {
   "cell_type": "code",
   "execution_count": 27,
   "id": "7bdef116-847c-4bdf-b156-e7f716945a17",
   "metadata": {},
   "outputs": [
    {
     "name": "stdout",
     "output_type": "stream",
     "text": [
      "Overwriting app.py\n"
     ]
    }
   ],
   "source": [
    "%%writefile app.py\n",
    "import streamlit as st\n",
    "st.title(\"학생관리 시스템\")\n",
    "st.write(\"안녕하세요\")"
   ]
  },
  {
   "cell_type": "code",
   "execution_count": null,
   "id": "d3704f7b-b10b-4c77-937c-cfce61105a9f",
   "metadata": {},
   "outputs": [],
   "source": []
  }
 ],
 "metadata": {
  "kernelspec": {
   "display_name": "Python 3 (ipykernel)",
   "language": "python",
   "name": "python3"
  },
  "language_info": {
   "codemirror_mode": {
    "name": "ipython",
    "version": 3
   },
   "file_extension": ".py",
   "mimetype": "text/x-python",
   "name": "python",
   "nbconvert_exporter": "python",
   "pygments_lexer": "ipython3",
   "version": "3.12.9"
  }
 },
 "nbformat": 4,
 "nbformat_minor": 5
}
