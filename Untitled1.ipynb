{
 "cells": [
  {
   "cell_type": "code",
   "execution_count": null,
   "id": "a4384361-93f9-4520-85f7-50335b4afbcb",
   "metadata": {},
   "outputs": [],
   "source": []
  },
  {
   "cell_type": "code",
   "execution_count": 11,
   "id": "c25c8162-4ff1-4852-8c5b-5337a58831f2",
   "metadata": {},
   "outputs": [],
   "source": [
    "import mysql.connector as connector\n",
    "import json\n",
    "\n",
    "# DB 접속 정보\n",
    "args = {\n",
    "    'host': 'localhost',\n",
    "    'user': 'root',\n",
    "    'password': 'root1234',\n",
    "    'port': 3306,\n",
    "    'database': 'student_db'\n",
    "}\n",
    "\n",
    "# DB 접속 함수\n",
    "def get_connection(args):\n",
    "    return connector.connect(**args)\n",
    "\n",
    "# 학생 정보 추가 함수\n",
    "def add_student(name, age, scores):\n",
    "    try:\n",
    "        conn = get_connection(args)\n",
    "        cursor = conn.cursor()\n",
    "        \n",
    "        # 올바른 SQL 쿼리 작성\n",
    "        query = \"INSERT INTO students (name, age, scores) VALUES (%s, %s, %s)\"\n",
    "        cursor.execute(query, (name, age, json.dumps(scores)))  # %s 바인딩 방식 사용\n",
    "        \n",
    "        conn.commit()  # 올바른 commit 호출\n",
    "        return True\n",
    "    except Exception as e:\n",
    "        print(\"Error:\", e)\n",
    "        return False\n",
    "    finally:\n",
    "        if 'conn' in locals() and conn:\n",
    "            cursor.close()\n",
    "            conn.close()\n"
   ]
  },
  {
   "cell_type": "code",
   "execution_count": 12,
   "id": "f0f17c68-d133-4941-ae92-6f9a739ffe25",
   "metadata": {},
   "outputs": [
    {
     "data": {
      "text/plain": [
       "True"
      ]
     },
     "execution_count": 12,
     "metadata": {},
     "output_type": "execute_result"
    }
   ],
   "source": [
    "add_student(\"홍길동\", 25,{'kor':95, 'eng':95, 'math':100})"
   ]
  },
  {
   "cell_type": "code",
   "execution_count": 13,
   "id": "dc939172-0cd7-4806-826c-9398e9280bf6",
   "metadata": {},
   "outputs": [],
   "source": [
    "def get_student(name = None):\n",
    "    conn = None\n",
    "    cursor = None\n",
    "    try:\n",
    "        conn = get_connection(args) # 접속\n",
    "        cursor = conn.cursor() # 쿼리실행 객체\n",
    "        if name:\n",
    "            query = f\"select * from students where name = {name}\"\n",
    "        query = \"select * from students\" # 쿼리 문장\n",
    "        cursor.execute(query) # 쿼리 실행\n",
    "        students = cursor.fetchall() # 실행 한 쿼리의 리턴값(없으면 None)\n",
    "        print(students)\n",
    "    except Exception as e:\n",
    "        print(\"Error:\", e)\n",
    "        return False\n",
    "    finally:\n",
    "        if 'conn' in locals() and conn:\n",
    "            cursor.close()\n",
    "            conn.close()\n",
    "        "
   ]
  },
  {
   "cell_type": "code",
   "execution_count": 16,
   "id": "04559090-a46e-4b9b-ae43-31b7455fb96b",
   "metadata": {},
   "outputs": [
    {
     "name": "stdout",
     "output_type": "stream",
     "text": [
      "[(1, '홍길동', 25, '{\"eng\": 95, \"kor\": 95, \"math\": 100}'), (2, '홍길동', 25, '{\"eng\": 95, \"kor\": 95, \"math\": 100}'), (3, '홍길동', 25, '{\"eng\": 95, \"kor\": 95, \"math\": 100}'), (4, '홍길동', 25, '{\"eng\": 95, \"kor\": 95, \"math\": 100}'), (5, '홍길동', 25, '{\"eng\": 95, \"kor\": 95, \"math\": 100}'), (6, '홍길동', 25, '{\"eng\": 95, \"kor\": 95, \"math\": 100}')]\n"
     ]
    }
   ],
   "source": [
    "get_student()"
   ]
  },
  {
   "cell_type": "code",
   "execution_count": 5,
   "id": "ff61b3b6-6f68-4b3d-b3cc-29b4e3ae4900",
   "metadata": {},
   "outputs": [
    {
     "name": "stdout",
     "output_type": "stream",
     "text": [
      "[(1, '홍길동', 25, '{\"eng\": 95, \"kor\": 95, \"math\": 100}'), (2, '홍길동', 25, '{\"eng\": 95, \"kor\": 95, \"math\": 100}'), (3, '홍길동', 25, '{\"eng\": 95, \"kor\": 95, \"math\": 100}'), (4, '홍길동', 25, '{\"eng\": 95, \"kor\": 95, \"math\": 100}'), (5, '홍길동', 25, '{\"eng\": 95, \"kor\": 95, \"math\": 100}')]\n"
     ]
    }
   ],
   "source": [
    "get_student(\"홍길동\")"
   ]
  },
  {
   "cell_type": "code",
   "execution_count": 6,
   "id": "98b4db00-03ab-476f-b727-0158aa1bd849",
   "metadata": {},
   "outputs": [],
   "source": [
    "import json\n",
    "\n",
    "def update_student(id, name=None, age=None, scores=None):\n",
    "    conn = None\n",
    "    cursor = None\n",
    "    updates = []  # 업데이트할 필드를 저장할 리스트\n",
    "    \n",
    "    try:\n",
    "        # 데이터베이스 연결\n",
    "        conn = get_connection(args)  # 이 부분은 연결 정보를 받아오는 함수 (예: 사용자 정의)\n",
    "        cursor = conn.cursor()  # 쿼리 실행 객체\n",
    "        \n",
    "        # 전달된 인자에 따라 업데이트할 필드를 추가\n",
    "        if name:\n",
    "            updates.append(f\"name = '{name}'\")\n",
    "        if age:\n",
    "            updates.append(f\"age = {age}\")\n",
    "        \n",
    "        # scores가 JSON 데이터일 경우, JSON 문자열로 변환하여 업데이트\n",
    "        if scores:\n",
    "            # JSON 데이터를 문자열로 변환\n",
    "            scores_json = json.dumps(scores)\n",
    "            updates.append(f\"scores = '{scores_json}'\")\n",
    "        \n",
    "        # 업데이트할 필드가 있는 경우\n",
    "        if updates:\n",
    "            updates_query = \", \".join(updates)  # 여러 업데이트 필드를 쉼표로 구분\n",
    "            \n",
    "            # UPDATE 쿼리 작성\n",
    "            query = f\"UPDATE students SET {updates_query} WHERE student_id = {id};\"\n",
    "            \n",
    "            # 쿼리 실행\n",
    "            cursor.execute(query)\n",
    "            conn.commit()  # 변경사항을 DB에 반영\n",
    "            \n",
    "            print(f\"학생 ID {id}의 정보가 성공적으로 업데이트되었습니다.\")\n",
    "        else:\n",
    "            print(\"업데이트할 필드가 없습니다.\")\n",
    "        \n",
    "    except Exception as e:\n",
    "        print(\"Error:\", e)\n",
    "        return False\n",
    "    finally:\n",
    "        if 'conn' in locals() and conn:\n",
    "            cursor.close()\n",
    "            conn.close()\n"
   ]
  },
  {
   "cell_type": "code",
   "execution_count": 7,
   "id": "b6dd0782-ef3a-4b7f-b3bc-ac487b81e420",
   "metadata": {},
   "outputs": [],
   "source": [
    "def get_student_2(id = None, name = None, age = None):\n",
    "    conn = None\n",
    "    cursor = None\n",
    "    selects = []\n",
    "    try:\n",
    "        conn = get_connection(args) # 접속\n",
    "        cursor = conn.cursor() # 쿼리실행 객체\n",
    "        if id:\n",
    "            selects.append(f\"id = {id}\")\n",
    "        if name:\n",
    "            selects.append(f\"name = '{name}'\")\n",
    "        if age:\n",
    "            selects.append(f\"age = {age}\")\n",
    "        selects_query = \"\"\n",
    "\n",
    "        if selects:\n",
    "            selects_query = \"WHERE \"\n",
    "            selects_query += \" and \".join(selects)\n",
    "            \n",
    "        query = f\"select * from students {selects_query};\"\n",
    "        print(query)\n",
    "        cursor.execute(query) # 쿼리 실행\n",
    "        students = cursor.fetchall() # 실행 한 쿼리의 리턴값(없으면 None)\n",
    "        print(students)\n",
    "    except Exception as e:\n",
    "        print(\"Error:\", e)\n",
    "        return False\n",
    "    finally:\n",
    "        if 'conn' in locals() and conn:\n",
    "            cursor.close()\n",
    "            conn.close()"
   ]
  },
  {
   "cell_type": "code",
   "execution_count": 15,
   "id": "da93b58c-af9e-4cee-8802-5c5cbc9fabff",
   "metadata": {},
   "outputs": [
    {
     "name": "stdout",
     "output_type": "stream",
     "text": [
      "select * from students WHERE name = '홍길동';\n",
      "[(1, '홍길동', 25, '{\"eng\": 95, \"kor\": 95, \"math\": 100}'), (2, '홍길동', 25, '{\"eng\": 95, \"kor\": 95, \"math\": 100}'), (3, '홍길동', 25, '{\"eng\": 95, \"kor\": 95, \"math\": 100}'), (4, '홍길동', 25, '{\"eng\": 95, \"kor\": 95, \"math\": 100}'), (5, '홍길동', 25, '{\"eng\": 95, \"kor\": 95, \"math\": 100}'), (6, '홍길동', 25, '{\"eng\": 95, \"kor\": 95, \"math\": 100}')]\n",
      "select * from students ;\n",
      "[(1, '홍길동', 25, '{\"eng\": 95, \"kor\": 95, \"math\": 100}'), (2, '홍길동', 25, '{\"eng\": 95, \"kor\": 95, \"math\": 100}'), (3, '홍길동', 25, '{\"eng\": 95, \"kor\": 95, \"math\": 100}'), (4, '홍길동', 25, '{\"eng\": 95, \"kor\": 95, \"math\": 100}'), (5, '홍길동', 25, '{\"eng\": 95, \"kor\": 95, \"math\": 100}'), (6, '홍길동', 25, '{\"eng\": 95, \"kor\": 95, \"math\": 100}')]\n",
      "select * from students WHERE id = 1;\n",
      "[(1, '홍길동', 25, '{\"eng\": 95, \"kor\": 95, \"math\": 100}')]\n",
      "select * from students WHERE age = 25;\n",
      "[(1, '홍길동', 25, '{\"eng\": 95, \"kor\": 95, \"math\": 100}'), (2, '홍길동', 25, '{\"eng\": 95, \"kor\": 95, \"math\": 100}'), (3, '홍길동', 25, '{\"eng\": 95, \"kor\": 95, \"math\": 100}'), (4, '홍길동', 25, '{\"eng\": 95, \"kor\": 95, \"math\": 100}'), (5, '홍길동', 25, '{\"eng\": 95, \"kor\": 95, \"math\": 100}'), (6, '홍길동', 25, '{\"eng\": 95, \"kor\": 95, \"math\": 100}')]\n",
      "select * from students WHERE id = 1 and name = '홍길동' and age = 25;\n",
      "[(1, '홍길동', 25, '{\"eng\": 95, \"kor\": 95, \"math\": 100}')]\n"
     ]
    }
   ],
   "source": [
    "get_student_2(None, '홍길동')\n",
    "get_student_2()\n",
    "get_student_2(1)\n",
    "get_student_2(age = 25)\n",
    "get_student_2(1, '홍길동', 25)"
   ]
  }
 ],
 "metadata": {
  "kernelspec": {
   "display_name": "Python 3 (ipykernel)",
   "language": "python",
   "name": "python3"
  },
  "language_info": {
   "codemirror_mode": {
    "name": "ipython",
    "version": 3
   },
   "file_extension": ".py",
   "mimetype": "text/x-python",
   "name": "python",
   "nbconvert_exporter": "python",
   "pygments_lexer": "ipython3",
   "version": "3.12.9"
  }
 },
 "nbformat": 4,
 "nbformat_minor": 5
}
