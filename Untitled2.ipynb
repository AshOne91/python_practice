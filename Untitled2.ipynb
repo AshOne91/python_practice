{
 "cells": [
  {
   "cell_type": "code",
   "execution_count": 2,
   "id": "05f86ae9-9a6d-4fff-ab2c-6f3b7160f44f",
   "metadata": {},
   "outputs": [
    {
     "name": "stdout",
     "output_type": "stream",
     "text": [
      "Requirement already satisfied: selenium in c:\\users\\user\\miniconda3\\envs\\db\\lib\\site-packages (4.29.0)\n",
      "Requirement already satisfied: urllib3<3,>=1.26 in c:\\users\\user\\miniconda3\\envs\\db\\lib\\site-packages (from urllib3[socks]<3,>=1.26->selenium) (2.3.0)\n",
      "Requirement already satisfied: trio~=0.17 in c:\\users\\user\\miniconda3\\envs\\db\\lib\\site-packages (from selenium) (0.29.0)\n",
      "Requirement already satisfied: trio-websocket~=0.9 in c:\\users\\user\\miniconda3\\envs\\db\\lib\\site-packages (from selenium) (0.12.2)\n",
      "Requirement already satisfied: certifi>=2021.10.8 in c:\\users\\user\\miniconda3\\envs\\db\\lib\\site-packages (from selenium) (2025.1.31)\n",
      "Requirement already satisfied: typing_extensions~=4.9 in c:\\users\\user\\miniconda3\\envs\\db\\lib\\site-packages (from selenium) (4.12.2)\n",
      "Requirement already satisfied: websocket-client~=1.8 in c:\\users\\user\\miniconda3\\envs\\db\\lib\\site-packages (from selenium) (1.8.0)\n",
      "Requirement already satisfied: attrs>=23.2.0 in c:\\users\\user\\miniconda3\\envs\\db\\lib\\site-packages (from trio~=0.17->selenium) (24.3.0)\n",
      "Requirement already satisfied: sortedcontainers in c:\\users\\user\\miniconda3\\envs\\db\\lib\\site-packages (from trio~=0.17->selenium) (2.4.0)\n",
      "Requirement already satisfied: idna in c:\\users\\user\\miniconda3\\envs\\db\\lib\\site-packages (from trio~=0.17->selenium) (3.7)\n",
      "Requirement already satisfied: outcome in c:\\users\\user\\miniconda3\\envs\\db\\lib\\site-packages (from trio~=0.17->selenium) (1.3.0.post0)\n",
      "Requirement already satisfied: sniffio>=1.3.0 in c:\\users\\user\\miniconda3\\envs\\db\\lib\\site-packages (from trio~=0.17->selenium) (1.3.0)\n",
      "Requirement already satisfied: cffi>=1.14 in c:\\users\\user\\miniconda3\\envs\\db\\lib\\site-packages (from trio~=0.17->selenium) (1.17.1)\n",
      "Requirement already satisfied: wsproto>=0.14 in c:\\users\\user\\miniconda3\\envs\\db\\lib\\site-packages (from trio-websocket~=0.9->selenium) (1.2.0)\n",
      "Requirement already satisfied: pysocks!=1.5.7,<2.0,>=1.5.6 in c:\\users\\user\\miniconda3\\envs\\db\\lib\\site-packages (from urllib3[socks]<3,>=1.26->selenium) (1.7.1)\n",
      "Requirement already satisfied: pycparser in c:\\users\\user\\miniconda3\\envs\\db\\lib\\site-packages (from cffi>=1.14->trio~=0.17->selenium) (2.21)\n",
      "Requirement already satisfied: h11<1,>=0.9.0 in c:\\users\\user\\miniconda3\\envs\\db\\lib\\site-packages (from wsproto>=0.14->trio-websocket~=0.9->selenium) (0.14.0)\n"
     ]
    }
   ],
   "source": [
    "!pip install selenium"
   ]
  },
  {
   "cell_type": "code",
   "execution_count": 8,
   "id": "411bdeb1-3f8d-47aa-a4d3-538938a32147",
   "metadata": {},
   "outputs": [
    {
     "name": "stdout",
     "output_type": "stream",
     "text": [
      "찾은 텍스트: Registrations Open for SeleniumConf 2025 | March 26–28 | Join Us In-Person! Register now!\n",
      "페이지 제목: Selenium\n"
     ]
    }
   ],
   "source": [
    "from selenium import webdriver\n",
    "from selenium.webdriver.common.by import By\n",
    "\n",
    "driver = webdriver.Chrome()\n",
    "driver.get(\"https://www.selenium.dev\")\n",
    "doc_link = driver.find_element(By.CLASS_NAME, \"alert-heading\")\n",
    "print(\"찾은 텍스트:\", doc_link.text)\n",
    "print(\"페이지 제목:\", driver.title)\n",
    "driver.quit()"
   ]
  },
  {
   "cell_type": "code",
   "execution_count": 12,
   "id": "a6146dcd-6296-4d90-9df3-bbe5d320bcb6",
   "metadata": {},
   "outputs": [
    {
     "name": "stdout",
     "output_type": "stream",
     "text": [
      "찾은 텍스트: Selenium IDE\n",
      "페이지 제목: Selenium\n"
     ]
    }
   ],
   "source": [
    "from selenium import webdriver\n",
    "from selenium.webdriver.common.by import By\n",
    "\n",
    "driver = webdriver.Chrome()\n",
    "driver.get(\"https://www.selenium.dev\")\n",
    "doc_link = driver.find_element(By.XPATH, \"/html/body/div/main/section[2]/div/div/div[2]/div/div[1]/h4\")\n",
    "print(\"찾은 텍스트:\", doc_link.text)\n",
    "print(\"페이지 제목:\", driver.title)\n",
    "driver.quit()"
   ]
  },
  {
   "cell_type": "code",
   "execution_count": 14,
   "id": "8cf6f5f9-d4a2-4095-a699-260bb6e0df6d",
   "metadata": {},
   "outputs": [
    {
     "name": "stdout",
     "output_type": "stream",
     "text": [
      "<selenium.webdriver.remote.webelement.WebElement (session=\"696a02b007cb265551a9690825f07714\", element=\"f.DF5F10C775DDA0F1A5D28355CC76A118.d.B94A8190AC9FE84E2FE3A66E91FFA1AF.e.29\")>\n"
     ]
    }
   ],
   "source": [
    "\n",
    "from selenium import webdriver\n",
    "from selenium.webdriver.common.by import By\n",
    "\n",
    "driver = webdriver.Chrome()\n",
    "driver.get(\"https://www.selenium.dev\")\n",
    "doc_link = driver.find_element(By.XPATH, \"/html/body/div/main/section[2]\")\n",
    "\n",
    "sub_div = doc_link.find_element(By.XPATH, '//div')\n",
    "print(sub_div)\n",
    "driver.quit()"
   ]
  },
  {
   "cell_type": "code",
   "execution_count": 19,
   "id": "eba1896c-e624-4789-8515-636b0dffe694",
   "metadata": {},
   "outputs": [
    {
     "ename": "InvalidSessionIdException",
     "evalue": "Message: invalid session id: session deleted as the browser has closed the connection\nfrom disconnected: not connected to DevTools\n  (Session info: chrome=134.0.6998.89)\nStacktrace:\n\tGetHandleVerifier [0x00007FF6504CFE45+26629]\n\t(No symbol) [0x00007FF650436010]\n\t(No symbol) [0x00007FF6502C931A]\n\t(No symbol) [0x00007FF6502B4F65]\n\t(No symbol) [0x00007FF6502D9E04]\n\t(No symbol) [0x00007FF65034F85F]\n\t(No symbol) [0x00007FF65036FA55]\n\t(No symbol) [0x00007FF650347883]\n\t(No symbol) [0x00007FF650310550]\n\t(No symbol) [0x00007FF650311803]\n\tGetHandleVerifier [0x00007FF6508272BD+3529853]\n\tGetHandleVerifier [0x00007FF65083DA22+3621858]\n\tGetHandleVerifier [0x00007FF6508324D3+3575443]\n\tGetHandleVerifier [0x00007FF65059B77A+860474]\n\t(No symbol) [0x00007FF65044088F]\n\t(No symbol) [0x00007FF65043CBC4]\n\t(No symbol) [0x00007FF65043CD66]\n\t(No symbol) [0x00007FF65042C2C9]\n\tBaseThreadInitThunk [0x00007FFA1785257D+29]\n\tRtlUserThreadStart [0x00007FFA1832AF08+40]\n",
     "output_type": "error",
     "traceback": [
      "\u001b[1;31m---------------------------------------------------------------------------\u001b[0m",
      "\u001b[1;31mInvalidSessionIdException\u001b[0m                 Traceback (most recent call last)",
      "Cell \u001b[1;32mIn[19], line 15\u001b[0m\n\u001b[0;32m     12\u001b[0m time\u001b[38;5;241m.\u001b[39msleep(\u001b[38;5;241m2\u001b[39m)  \u001b[38;5;66;03m# 페이지 전환 대기\u001b[39;00m\n\u001b[0;32m     14\u001b[0m \u001b[38;5;66;03m# 아이디 입력\u001b[39;00m\n\u001b[1;32m---> 15\u001b[0m input_name \u001b[38;5;241m=\u001b[39m driver\u001b[38;5;241m.\u001b[39mfind_element(By\u001b[38;5;241m.\u001b[39mXPATH, \u001b[38;5;124m'\u001b[39m\u001b[38;5;124m//*[@id=\u001b[39m\u001b[38;5;124m\"\u001b[39m\u001b[38;5;124mid\u001b[39m\u001b[38;5;124m\"\u001b[39m\u001b[38;5;124m]\u001b[39m\u001b[38;5;124m'\u001b[39m)\n\u001b[0;32m     16\u001b[0m input_name\u001b[38;5;241m.\u001b[39msend_keys(\u001b[38;5;124m'\u001b[39m\u001b[38;5;124mabc\u001b[39m\u001b[38;5;124m'\u001b[39m)\n\u001b[0;32m     18\u001b[0m \u001b[38;5;66;03m# 비밀번호 입력\u001b[39;00m\n",
      "File \u001b[1;32m~\\miniconda3\\envs\\db\\Lib\\site-packages\\selenium\\webdriver\\remote\\webdriver.py:898\u001b[0m, in \u001b[0;36mWebDriver.find_element\u001b[1;34m(self, by, value)\u001b[0m\n\u001b[0;32m    895\u001b[0m         \u001b[38;5;28;01mraise\u001b[39;00m NoSuchElementException(\u001b[38;5;124mf\u001b[39m\u001b[38;5;124m\"\u001b[39m\u001b[38;5;124mCannot locate relative element with: \u001b[39m\u001b[38;5;132;01m{\u001b[39;00mby\u001b[38;5;241m.\u001b[39mroot\u001b[38;5;132;01m}\u001b[39;00m\u001b[38;5;124m\"\u001b[39m)\n\u001b[0;32m    896\u001b[0m     \u001b[38;5;28;01mreturn\u001b[39;00m elements[\u001b[38;5;241m0\u001b[39m]\n\u001b[1;32m--> 898\u001b[0m \u001b[38;5;28;01mreturn\u001b[39;00m \u001b[38;5;28mself\u001b[39m\u001b[38;5;241m.\u001b[39mexecute(Command\u001b[38;5;241m.\u001b[39mFIND_ELEMENT, {\u001b[38;5;124m\"\u001b[39m\u001b[38;5;124musing\u001b[39m\u001b[38;5;124m\"\u001b[39m: by, \u001b[38;5;124m\"\u001b[39m\u001b[38;5;124mvalue\u001b[39m\u001b[38;5;124m\"\u001b[39m: value})[\u001b[38;5;124m\"\u001b[39m\u001b[38;5;124mvalue\u001b[39m\u001b[38;5;124m\"\u001b[39m]\n",
      "File \u001b[1;32m~\\miniconda3\\envs\\db\\Lib\\site-packages\\selenium\\webdriver\\remote\\webdriver.py:429\u001b[0m, in \u001b[0;36mWebDriver.execute\u001b[1;34m(self, driver_command, params)\u001b[0m\n\u001b[0;32m    427\u001b[0m response \u001b[38;5;241m=\u001b[39m \u001b[38;5;28mself\u001b[39m\u001b[38;5;241m.\u001b[39mcommand_executor\u001b[38;5;241m.\u001b[39mexecute(driver_command, params)\n\u001b[0;32m    428\u001b[0m \u001b[38;5;28;01mif\u001b[39;00m response:\n\u001b[1;32m--> 429\u001b[0m     \u001b[38;5;28mself\u001b[39m\u001b[38;5;241m.\u001b[39merror_handler\u001b[38;5;241m.\u001b[39mcheck_response(response)\n\u001b[0;32m    430\u001b[0m     response[\u001b[38;5;124m\"\u001b[39m\u001b[38;5;124mvalue\u001b[39m\u001b[38;5;124m\"\u001b[39m] \u001b[38;5;241m=\u001b[39m \u001b[38;5;28mself\u001b[39m\u001b[38;5;241m.\u001b[39m_unwrap_value(response\u001b[38;5;241m.\u001b[39mget(\u001b[38;5;124m\"\u001b[39m\u001b[38;5;124mvalue\u001b[39m\u001b[38;5;124m\"\u001b[39m, \u001b[38;5;28;01mNone\u001b[39;00m))\n\u001b[0;32m    431\u001b[0m     \u001b[38;5;28;01mreturn\u001b[39;00m response\n",
      "File \u001b[1;32m~\\miniconda3\\envs\\db\\Lib\\site-packages\\selenium\\webdriver\\remote\\errorhandler.py:232\u001b[0m, in \u001b[0;36mErrorHandler.check_response\u001b[1;34m(self, response)\u001b[0m\n\u001b[0;32m    230\u001b[0m         alert_text \u001b[38;5;241m=\u001b[39m value[\u001b[38;5;124m\"\u001b[39m\u001b[38;5;124malert\u001b[39m\u001b[38;5;124m\"\u001b[39m]\u001b[38;5;241m.\u001b[39mget(\u001b[38;5;124m\"\u001b[39m\u001b[38;5;124mtext\u001b[39m\u001b[38;5;124m\"\u001b[39m)\n\u001b[0;32m    231\u001b[0m     \u001b[38;5;28;01mraise\u001b[39;00m exception_class(message, screen, stacktrace, alert_text)  \u001b[38;5;66;03m# type: ignore[call-arg]  # mypy is not smart enough here\u001b[39;00m\n\u001b[1;32m--> 232\u001b[0m \u001b[38;5;28;01mraise\u001b[39;00m exception_class(message, screen, stacktrace)\n",
      "\u001b[1;31mInvalidSessionIdException\u001b[0m: Message: invalid session id: session deleted as the browser has closed the connection\nfrom disconnected: not connected to DevTools\n  (Session info: chrome=134.0.6998.89)\nStacktrace:\n\tGetHandleVerifier [0x00007FF6504CFE45+26629]\n\t(No symbol) [0x00007FF650436010]\n\t(No symbol) [0x00007FF6502C931A]\n\t(No symbol) [0x00007FF6502B4F65]\n\t(No symbol) [0x00007FF6502D9E04]\n\t(No symbol) [0x00007FF65034F85F]\n\t(No symbol) [0x00007FF65036FA55]\n\t(No symbol) [0x00007FF650347883]\n\t(No symbol) [0x00007FF650310550]\n\t(No symbol) [0x00007FF650311803]\n\tGetHandleVerifier [0x00007FF6508272BD+3529853]\n\tGetHandleVerifier [0x00007FF65083DA22+3621858]\n\tGetHandleVerifier [0x00007FF6508324D3+3575443]\n\tGetHandleVerifier [0x00007FF65059B77A+860474]\n\t(No symbol) [0x00007FF65044088F]\n\t(No symbol) [0x00007FF65043CBC4]\n\t(No symbol) [0x00007FF65043CD66]\n\t(No symbol) [0x00007FF65042C2C9]\n\tBaseThreadInitThunk [0x00007FFA1785257D+29]\n\tRtlUserThreadStart [0x00007FFA1832AF08+40]\n"
     ]
    }
   ],
   "source": [
    "from selenium import webdriver\n",
    "from selenium.webdriver.common.by import By\n",
    "import time\n",
    "\n",
    "# 웹 드라이버 실행\n",
    "driver = webdriver.Chrome()\n",
    "driver.get(\"https://www.naver.com/\")\n",
    "\n",
    "# 로그인 버튼 클릭\n",
    "button = driver.find_element(By.XPATH, '//*[@id=\"account\"]/div/a')\n",
    "button.click()\n",
    "time.sleep(2)  # 페이지 전환 대기\n",
    "\n",
    "# 아이디 입력\n",
    "input_name = driver.find_element(By.XPATH, '//*[@id=\"id\"]')\n",
    "input_name.send_keys('abc')\n",
    "\n",
    "# 비밀번호 입력\n",
    "input_pw = driver.find_element(By.XPATH, '//*[@id=\"pw\"]')\n",
    "input_pw.send_keys('abc')\n",
    "\n",
    "# 로그인 버튼 클릭\n",
    "login_button = driver.find_element(By.XPATH, '//*[@id=\"log.login\"]')\n",
    "login_button.click()\n",
    "\n",
    "# 잠시 대기 후 종료\n",
    "time.sleep(3)\n",
    "driver.quit()\n"
   ]
  },
  {
   "cell_type": "code",
   "execution_count": 21,
   "id": "31263f4e-b337-4d36-9100-41099d31439a",
   "metadata": {},
   "outputs": [],
   "source": [
    "from selenium import webdriver\n",
    "import time\n",
    "\n",
    "driver = webdriver.Chrome()\n",
    "driver.get(\"https://www.naver.com\")\n",
    "search_button = driver.find_element(By.XPATH, '//*[@id=\"query\"]')\n",
    "search_button.send_keys('오늘의 날씨')\n",
    "search_button.submit()\n",
    "\n",
    "time.sleep(10)\n",
    "driver.quit()"
   ]
  },
  {
   "cell_type": "code",
   "execution_count": 24,
   "id": "94b8a122-e9bc-461c-9707-eb60706f0f20",
   "metadata": {},
   "outputs": [],
   "source": [
    "from selenium import webdriver\n",
    "import time\n",
    "driver = webdriver.Chrome()\n",
    "driver.get(\"https://www.naver.com\")\n",
    "time.sleep(5)\n",
    "driver.execute_script(\"window.scrollTo(0, document.body.scrollHeight);\")\n",
    "time.sleep(5)\n",
    "driver.quit()"
   ]
  },
  {
   "cell_type": "code",
   "execution_count": 4,
   "id": "bfbae7e1-2e8b-47ac-ae60-2ea9de298d39",
   "metadata": {},
   "outputs": [
    {
     "ename": "NameError",
     "evalue": "name 'news_title' is not defined",
     "output_type": "error",
     "traceback": [
      "\u001b[1;31m---------------------------------------------------------------------------\u001b[0m",
      "\u001b[1;31mNameError\u001b[0m                                 Traceback (most recent call last)",
      "Cell \u001b[1;32mIn[4], line 26\u001b[0m\n\u001b[0;32m     24\u001b[0m \u001b[38;5;66;03m# print('temp', temp)\u001b[39;00m\n\u001b[0;32m     25\u001b[0m \u001b[38;5;28;01mfor\u001b[39;00m new_title \u001b[38;5;129;01min\u001b[39;00m soup\u001b[38;5;241m.\u001b[39mfind_all(\u001b[38;5;124m'\u001b[39m\u001b[38;5;124mstrong\u001b[39m\u001b[38;5;124m'\u001b[39m, class_\u001b[38;5;241m=\u001b[39m\u001b[38;5;124m'\u001b[39m\u001b[38;5;124mcnf_news_title\u001b[39m\u001b[38;5;124m'\u001b[39m):\n\u001b[1;32m---> 26\u001b[0m     \u001b[38;5;28mprint\u001b[39m(news_title\u001b[38;5;241m.\u001b[39mtext)\n\u001b[0;32m     27\u001b[0m driver\u001b[38;5;241m.\u001b[39mquit()\n",
      "\u001b[1;31mNameError\u001b[0m: name 'news_title' is not defined"
     ]
    }
   ],
   "source": [
    "from selenium import webdriver\n",
    "from selenium.webdriver.common.by import By\n",
    "from bs4 import BeautifulSoup\n",
    "import time\n",
    "\n",
    "url = 'https://www.naver.com/'\n",
    "driver = webdriver.Chrome()\n",
    "driver.get(url)\n",
    "time.sleep(1)\n",
    "\n",
    "news = driver.find_element(By.XPATH, '//*[@id=\"shortcutArea\"]/ul/li[5]/a/span[1]')\n",
    "news.click()\n",
    "time.sleep(1)\n",
    "\n",
    "\n",
    "'뉴스 탭으로 이동'\n",
    "driver.switch_to.window(driver.window_handles[1])\n",
    "time.sleep(2)\n",
    "\n",
    "\n",
    "html = driver.page_source\n",
    "soup = BeautifulSoup(html, 'html.parser')\n",
    "for new_title in soup.find_all('strong', class_='cnf_news_title'):\n",
    "    print(news_title.text)\n",
    "driver.quit()"
   ]
  }
 ],
 "metadata": {
  "kernelspec": {
   "display_name": "Python 3 (ipykernel)",
   "language": "python",
   "name": "python3"
  },
  "language_info": {
   "codemirror_mode": {
    "name": "ipython",
    "version": 3
   },
   "file_extension": ".py",
   "mimetype": "text/x-python",
   "name": "python",
   "nbconvert_exporter": "python",
   "pygments_lexer": "ipython3",
   "version": "3.12.9"
  }
 },
 "nbformat": 4,
 "nbformat_minor": 5
}
