{
 "cells": [
  {
   "cell_type": "code",
   "execution_count": 1,
   "id": "07a1841f-a974-4555-b1fb-72c05ccbce85",
   "metadata": {},
   "outputs": [
    {
     "name": "stdout",
     "output_type": "stream",
     "text": [
      "Requirement already satisfied: selenium in c:\\users\\user\\miniconda3\\envs\\db\\lib\\site-packages (4.29.0)\n",
      "Requirement already satisfied: urllib3<3,>=1.26 in c:\\users\\user\\miniconda3\\envs\\db\\lib\\site-packages (from urllib3[socks]<3,>=1.26->selenium) (2.3.0)\n",
      "Requirement already satisfied: trio~=0.17 in c:\\users\\user\\miniconda3\\envs\\db\\lib\\site-packages (from selenium) (0.29.0)\n",
      "Requirement already satisfied: trio-websocket~=0.9 in c:\\users\\user\\miniconda3\\envs\\db\\lib\\site-packages (from selenium) (0.12.2)\n",
      "Requirement already satisfied: certifi>=2021.10.8 in c:\\users\\user\\miniconda3\\envs\\db\\lib\\site-packages (from selenium) (2025.1.31)\n",
      "Requirement already satisfied: typing_extensions~=4.9 in c:\\users\\user\\miniconda3\\envs\\db\\lib\\site-packages (from selenium) (4.12.2)\n",
      "Requirement already satisfied: websocket-client~=1.8 in c:\\users\\user\\miniconda3\\envs\\db\\lib\\site-packages (from selenium) (1.8.0)\n",
      "Requirement already satisfied: attrs>=23.2.0 in c:\\users\\user\\miniconda3\\envs\\db\\lib\\site-packages (from trio~=0.17->selenium) (24.3.0)\n",
      "Requirement already satisfied: sortedcontainers in c:\\users\\user\\miniconda3\\envs\\db\\lib\\site-packages (from trio~=0.17->selenium) (2.4.0)\n",
      "Requirement already satisfied: idna in c:\\users\\user\\miniconda3\\envs\\db\\lib\\site-packages (from trio~=0.17->selenium) (3.7)\n",
      "Requirement already satisfied: outcome in c:\\users\\user\\miniconda3\\envs\\db\\lib\\site-packages (from trio~=0.17->selenium) (1.3.0.post0)\n",
      "Requirement already satisfied: sniffio>=1.3.0 in c:\\users\\user\\miniconda3\\envs\\db\\lib\\site-packages (from trio~=0.17->selenium) (1.3.0)\n",
      "Requirement already satisfied: cffi>=1.14 in c:\\users\\user\\miniconda3\\envs\\db\\lib\\site-packages (from trio~=0.17->selenium) (1.17.1)\n",
      "Requirement already satisfied: wsproto>=0.14 in c:\\users\\user\\miniconda3\\envs\\db\\lib\\site-packages (from trio-websocket~=0.9->selenium) (1.2.0)\n",
      "Requirement already satisfied: pysocks!=1.5.7,<2.0,>=1.5.6 in c:\\users\\user\\miniconda3\\envs\\db\\lib\\site-packages (from urllib3[socks]<3,>=1.26->selenium) (1.7.1)\n",
      "Requirement already satisfied: pycparser in c:\\users\\user\\miniconda3\\envs\\db\\lib\\site-packages (from cffi>=1.14->trio~=0.17->selenium) (2.21)\n",
      "Requirement already satisfied: h11<1,>=0.9.0 in c:\\users\\user\\miniconda3\\envs\\db\\lib\\site-packages (from wsproto>=0.14->trio-websocket~=0.9->selenium) (0.14.0)\n"
     ]
    }
   ],
   "source": [
    "!pip install selenium"
   ]
  },
  {
   "cell_type": "code",
   "execution_count": 2,
   "id": "91bfdea3-202c-4a66-a4b5-915e860172b8",
   "metadata": {
    "scrolled": true
   },
   "outputs": [
    {
     "name": "stdout",
     "output_type": "stream",
     "text": [
      "페이지 제목: Google\n"
     ]
    }
   ],
   "source": [
    "from selenium import webdriver\n",
    "driver = webdriver.Chrome()\n",
    "# Chrome 브라우저 열기\n",
    "driver.get(\"https://www.google.com\")\n",
    "print(\"페이지 제목:\", driver.title)\n",
    "# 브라우저 종료\n",
    "driver.quit()"
   ]
  },
  {
   "cell_type": "code",
   "execution_count": 3,
   "id": "db3d480d-e851-41ec-808e-f2ca35ca3b09",
   "metadata": {},
   "outputs": [
    {
     "name": "stdout",
     "output_type": "stream",
     "text": [
      "찾은 텍스트: Documentation\n"
     ]
    }
   ],
   "source": [
    "from selenium import webdriver\n",
    "from selenium.webdriver.common.by import By\n",
    "\n",
    "driver = webdriver.Chrome()\n",
    "driver.get(\"https://www.selenium.dev\")\n",
    "doc_link = driver.find_element(By.LINK_TEXT, \"Documentation\")\n",
    "print(\"찾은 텍스트:\", doc_link.text)\n",
    "\n",
    "# 브라우저 종료\n",
    "driver.quit()"
   ]
  },
  {
   "cell_type": "code",
   "execution_count": 4,
   "id": "47bbaf38-9bc8-48ab-ba4a-1734413de126",
   "metadata": {},
   "outputs": [
    {
     "name": "stdout",
     "output_type": "stream",
     "text": [
      "찾은 텍스트: Registrations Open for SeleniumConf 2025 | March 26–28 | Join Us In-Person! Register now!\n"
     ]
    }
   ],
   "source": [
    "from selenium import webdriver\n",
    "from selenium.webdriver.common.by import By\n",
    "\n",
    "driver = webdriver.Chrome()\n",
    "driver.get(\"https://www.selenium.dev\")\n",
    "doc_link = driver.find_element(By.CLASS_NAME, \n",
    "                               \"alert-heading\")\n",
    "print(\"찾은 텍스트:\", doc_link.text)\n",
    "\n",
    "# 브라우저 종료\n",
    "driver.quit()"
   ]
  },
  {
   "cell_type": "code",
   "execution_count": 5,
   "id": "84a43b2b-ef97-452c-b12e-6a8c7c58d341",
   "metadata": {},
   "outputs": [
    {
     "name": "stdout",
     "output_type": "stream",
     "text": [
      "찾은 텍스트: Selenium IDE\n"
     ]
    }
   ],
   "source": [
    "from selenium import webdriver\n",
    "from selenium.webdriver.common.by import By\n",
    "\n",
    "driver = webdriver.Chrome()\n",
    "driver.get(\"https://www.selenium.dev\")\n",
    "doc_link = driver.find_element(By.XPATH, \n",
    "                               \"/html/body/div/main/section[2]/div/div/div[2]/div/div[1]/h4\")\n",
    "print(\"찾은 텍스트:\", doc_link.text)\n",
    "\n",
    "# 브라우저 종료\n",
    "driver.quit()"
   ]
  },
  {
   "cell_type": "code",
   "execution_count": 6,
   "id": "b3e67407-ef73-4245-ba6a-e8ae607e1da9",
   "metadata": {},
   "outputs": [],
   "source": [
    "from selenium import webdriver\n",
    "from selenium.webdriver.common.by import By\n",
    "import time\n",
    "\n",
    "driver = webdriver.Chrome()\n",
    "driver.get(\"https://www.naver.com/\")\n",
    "button = driver.find_element(By.XPATH, \n",
    "                               '//*[@id=\"account\"]/div/a')\n",
    "\n",
    "button.click()  # 로그인창\n",
    "time.sleep(1) # 화면이 다 뜰때까지 대기\n",
    "\n",
    "input_name = driver.find_element(By.XPATH,'//*[@id=\"id\"]')\n",
    "input_name.send_keys('abc') # 아이디\n",
    "time.sleep(1)\n",
    "\n",
    "psw_name = driver.find_element(By.XPATH,'//*[@id=\"pw\"]')\n",
    "psw_name.send_keys('abc') # 패스워드\n",
    "time.sleep(1)\n",
    "\n",
    "login_button = driver.find_element(By.XPATH, \n",
    "                               '//*[@id=\"log.login\"]') #로그인 버튼\n",
    "time.sleep(1)\n",
    "login_button.click()  # 버튼 클릭\n",
    "\n",
    "# 브라우저 종료\n",
    "time.sleep(2)\n",
    "driver.quit()"
   ]
  },
  {
   "cell_type": "code",
   "execution_count": 7,
   "id": "7aa8d3d7-9a45-448a-90b3-19b16ea4161b",
   "metadata": {},
   "outputs": [],
   "source": [
    "from selenium import webdriver\n",
    "import time\n",
    "\n",
    "driver = webdriver.Chrome()\n",
    "# Chrome 브라우저 열기\n",
    "driver.get(\"https://www.naver.com\")\n",
    "search_button = driver.find_element(By.XPATH, '//*[@id=\"query\"]') \n",
    "search_button.send_keys('오늘의 날씨')\n",
    "search_button.submit()\n",
    "\n",
    "time.sleep(10)\n",
    "# 브라우저 종료\n",
    "driver.quit()"
   ]
  },
  {
   "cell_type": "code",
   "execution_count": 8,
   "id": "504c4e60-ba15-4dd4-bcaa-140125b179c3",
   "metadata": {},
   "outputs": [],
   "source": [
    "from selenium import webdriver\n",
    "import time\n",
    "driver = webdriver.Chrome()\n",
    "driver.get(\"https://www.naver.com\")\n",
    "time.sleep(5)\n",
    "driver.execute_script(\"window.scrollTo(0, document.body.scrollHeight);\")\n",
    "time.sleep(5)\n",
    "driver.quit()"
   ]
  },
  {
   "cell_type": "markdown",
   "id": "7946e85e-e93f-4815-b29b-c43a0803916b",
   "metadata": {},
   "source": [
    "# 셀리니움 + 뷰티플숍"
   ]
  },
  {
   "cell_type": "code",
   "execution_count": 9,
   "id": "9bf69f1a-3f60-498e-885e-75a5dc40b52d",
   "metadata": {
    "scrolled": true
   },
   "outputs": [
    {
     "name": "stdout",
     "output_type": "stream",
     "text": [
      "\"이재명 무죄·피선거권 유지\" 55.2% vs. \"피선거권 상실형\" 33.5%…검찰 신뢰 24.2%\n",
      "[충북·세종 날씨] 체감온도 ‘뚝’...내일 강풍에 눈·비까지\n",
      "\"반년 새 반토막\" 백종원 더본코리아, 끝없는 주가 하락\n",
      "‘14조 거부’ 김병주 회장, 이례적 사재출연… 변제금액 최대 5000억이나 실제론 못 미칠 듯\n",
      "'개미'만 모인 대체거래소… 삼성전자·SK하이닉스 거래는 언제\n",
      "의사 커뮤니티 ‘메슾’ 관찰기 - ‘탕핑’하는 그들에 대하여\n",
      "\"이미 다 나갔어요\"…집도 안보고 '묻지마 매수' 난리난 동네\n",
      "“적이라도 서로를 알면 용서할 수 있다”\n",
      "양주 군부대 무인기와 헬기 충돌.. 헬기 전소\n",
      "\"尹 심판의 날, 무슨 일 날지 몰라\".. 탄핵 선고 당일  '갑호비상'\n",
      "OCED 한국 성장률 전망치 2.1% → 1.5%…‘관세 폭탄’에 우는 무역 강국들\n",
      "김용현 \"비상계엄은 대통령님 권한…감히 모의라니\"\n",
      "프로야구, 올해도 '대박' 조짐...개막전 예매에 20만명 몰려\n",
      "Constitutional Court expected to deliver ruling on Yoon this week\n",
      "[단독] 코레일 소속 직원 ‘수십억’ 빌린 뒤 잠적...“사안 확인 중”\n",
      "넷플릭스 '폭싹 속았수다', 가을이 온다…21일, 3막 오픈\n",
      "[단독]1년에 3억씩 쇼핑하는 20대…이 백화점선 수백명씩 볼 수 있다고?\n",
      "천하람, '尹탄핵' 확신하는 까닭…\"이재명에게 비상계엄 프리패스 줄 수 있나\"\n",
      "메모리의 봄 왔나…\"삼성·하이닉스도 낸드 가격 올릴 듯\"\n",
      "[속보] 한-우크라 외교장관 통화…북한군 포로 송환 논의\n",
      "\"영웅은 나와 같은 정당, 악당은 반대 정당 지지\"\n",
      "[속보]문형배 등 헌법재판관 탄핵 청원 5만명 이상 동의…법사위 회부\n",
      "\"휴대폰 주우려다..\" 비탈길서 추락해 다음 날 구조된 30대 女\n",
      "재판관 '평결' 임박...이번 주 후반 선고 유력\n",
      "[단독] 상관 부당 명령 거부 법안 봇물… “불복종 땐 軍 유지 가능한가” 비판\n",
      "OECD, 韓경제 성장률 1.5%로 낮췄다…“대내외 불확실성 반영”[종합]\n",
      "이유도 모른채 ‘민감국가’ 되고 우왕좌왕…미국의 속내는?\n",
      "“자연산”이라며 ‘이 생선’ 날로 먹었다간, 담관암 걸린다\n",
      "노무현‧문재인이 3040男 ‘尹 탄핵 여론’ 나눴다\n",
      "민주당, '내란 확정시 국민의힘 해산법' 발의… 與 \"아부 좀 그만\"\n",
      "7세 쌍둥이에 수면제 먹여 살해하려던 엄마…구속기소\n",
      "여가부 산하 공공기관장 동시 임명…민주당 여가위원들 “알박기 인사” 비판\n",
      "서울시, 윤 대통령 탄핵촉구 단체에 변상금 부과‥\"광화문광장 불법점거\"\n",
      "서울대 의대 교수들, 전공의 등 작심 비판…\"오만하기 그지없어\"(종합3보)\n",
      "PF 대출서 날아온 '부실'이란 망령 : 저축은행 예고된 추락 [視리즈]\n",
      "탄핵 집회서 쓰러진 60대 남성 숨져…이재명 \"뜻 이어받겠다\"\n",
      "\"17일 11시 선고\" \"재판관 도망\"…최장 헌재 숙의에 판치는 가짜뉴스\n",
      "'내란 혐의' 김용현 \"야당 패악질 막기 위한 비상계엄\"\n",
      "대통령 탄핵심판 11시 선고?…'서부지법 난동' 생중계 변수\n",
      "돌아온 외국인...삼성전자 순매도 행진 끝\n",
      "문형배·이미선·정계선 헌법재판관 탄핵 청원 5만명 이상 동의…'사전투표 폐지' 청원도 성립 요건 충족\n",
      "디자인 혁신한다며 ‘디자인 대상 작품’ 철거?\n",
      "OECD, 한국 성장률 1.5%로 하향…‘관세 폭풍’에 0.6%p↓\n",
      "카카오 'SM 시세조종' 쟁점 세 가지...굿즈·김범수·주식매수\n",
      "[단독]김용현 “尹, ‘국회·선관위에 중점적 병력투입’ 지시”…선관위 직원들 “너무 무서웠다”\n",
      "尹, 선고 전까지 추가 메시지 안 낸다\n",
      "\"이번주 넘기면 국가 대혼란\"…19일 공지-21일 선고 유력\n",
      "[단독] ‘김건희 국정개입’ 아직도 오리무중\n",
      "김대식 \"이재명, '권성동 헌재 승복'에 굉장히 불안할 것\"\n",
      "OECD, 韓 경제 '관세충격' 예상…G20 평균 조정폭 3배나 성장률 낮췄다\n",
      "\"돈 없어, 2000만원대 차 살래\"…경기불황에 71%가 중고차 선호\n",
      "\"50만 명 다녀갔다\" 자신감 붙자…日에 초대형 매장 낸 '토종 브랜드'\n",
      "환율 1400원대 이제 뉴노멀?...외환위기 이후 최고\n",
      "[영상] 가짜 벽 세우고 테슬라 차량 몰고 갔더니\n",
      "50년 여정 끝내며... 다시 그 거리에 선 언론인들\n",
      "서울대 의대 교수들, 사직 전공의 향해 \"'억울하면 의대 와라', 진심인가\"\n",
      "\"진짜 피해자는 누구인가?\" 서울대의대 교수들, 전공의·의대생 강력 비판\n",
      "김용현 \"불법 내란 모의한 적 없다\"…첫 공판서 혐의 부인\n",
      "광화문 광장서 울린 7770명 시민 목소리 \"하루도 못 참아, 윤석열 즉각 파면\"\n",
      "경찰, 이철규 의원 아들 부부에 대마 공급 혐의 상선 검거\n",
      "유뱅크도 이달 말 제4인뱅 예비인가 불참…\"정국 불안 고려\"\n",
      "“겸손하면 좋으련만, 의사면허 하나로 오만”… 서울의대 교수 4인, 의대생·전공의 직격\n",
      "[기획] 吳가 불지른 집값… 서울 넘어 경기로\n",
      "서울대병원 교수들 “내가 알던 제자 맞나, 전공의·의대생에 절망” [성명 전문]\n",
      "유정복 인천시장, 백약이 무효이던 ‘저출생 문제’ 획기적 성과\n",
      "EBS 내부 \"신동호, 이진숙 특수 관계에 당적 의혹까지\" 반발\n",
      "South Korean-U.S. militaries refine tunnel warfare skills\n",
      "'HBM 장비' 독점 깨졌다…최대 승자는 SK하이닉스?\n",
      "[단독]이재용 “메모리사업부 자만에 빠져…” 사업부마다 일일이 질책\n",
      "충북대 의대 \"학생들 미복귀 시 불이익…늦지 않게 복귀하라\"\n",
      "브레이크 없는 ‘픽시 자전거’ 어쩌나\n",
      "민주당 '홍준표-명태균 카톡 공개'···홍준표 \"카톡 오면 의례적인 답장하는 게 통례, 민주당 국회의원들 수준하고는···\"\n",
      "강풍에 곳곳 눈·비 내리는 화요일(18일)…최저 ‘영하 4℃’\n",
      "5112m 깊이서도 '쓰레기' 포착…지중해 심해까지 갔다\n",
      "[속보] 韓-우크라 외교장관 통화…북한군 포로 송환 문제 논의\n",
      "[단독] 신범철, \"美 민감국가 지정 배경, '웨스팅하우스 간 지적재산권 분쟁'이 가장 유력\"\n",
      "\"'尹 심판의 날' 무슨 일 일어날지 몰라\"…안국역 폐쇄된다(종합)\n",
      "[현장에서] '윤석열 내란'과 '윤석열 명예훼손'\n",
      "법학자들이 분석한 내란죄·탄핵심판…\"국민 납득 가능한 판결문 제시해야\"\n",
      "OECD, 韓성장 올해 2.1→1.5%로 대폭 하향조정\n",
      "'尹 탄핵 심판' 최장 평의…이번 주엔 결론 낼까\n",
      "등반이 어렵다 한들 인생보다 어려울까 [스위스 그로스 그룬호른]\n"
     ]
    }
   ],
   "source": [
    "from selenium import webdriver\n",
    "from selenium.webdriver.common.by import By\n",
    "from bs4 import BeautifulSoup\n",
    "import time\n",
    "\n",
    "url = 'https://www.naver.com/'\n",
    "driver = webdriver.Chrome()\n",
    "driver.get(url)\n",
    "time.sleep(1)\n",
    "\n",
    "news = driver.find_element(By.XPATH, '//*[@id=\"shortcutArea\"]/ul/li[5]/a/span[1]')\n",
    "news.click()\n",
    "time.sleep(1)\n",
    "\n",
    "'뉴스 탭으로 이동'\n",
    "driver.switch_to.window(driver.window_handles[1])\n",
    "time.sleep(2)\n",
    "\n",
    "html = driver.page_source\n",
    "soup = BeautifulSoup(html,'html.parser')\n",
    "for news_title in soup.select('strong.cnf_news_title'):\n",
    "    print(news_title.text)\n",
    "driver.quit()    \n"
   ]
  },
  {
   "cell_type": "markdown",
   "id": "ff96690e-382d-4ff1-8051-2196fa5617bb",
   "metadata": {},
   "source": [
    "# 동적으로 생성되는 컨텐츠 데이터 가져오기"
   ]
  },
  {
   "cell_type": "code",
   "execution_count": 10,
   "id": "12adf52f-1a49-49f9-9970-6ba6654550b9",
   "metadata": {},
   "outputs": [
    {
     "name": "stdout",
     "output_type": "stream",
     "text": [
      "{'매장명': '경복궁역3번출구점', '영업시간': '월-금 07:00~22:00 | 토 08:00~22:00 | 일/공휴일 08:00~21:00 |', '주차': '', '주소': '서울특별시 종로구 자하문로 10  ', '전화번호': '02-557-0510', '기타': '홀케익 당일 수령가능'}\n"
     ]
    }
   ],
   "source": [
    "from selenium import webdriver\n",
    "from selenium.webdriver.common.by import By\n",
    "from bs4 import BeautifulSoup\n",
    "import time\n",
    "\n",
    "url = 'https://www.coffeebeankorea.com/store/store.asp'\n",
    "driver = webdriver.Chrome()\n",
    "driver.get(url)\n",
    "time.sleep(1)\n",
    "\n",
    "driver.execute_script(\"storePop2('400')\")\n",
    "time.sleep(1)\n",
    "html = driver.page_source\n",
    "soup = BeautifulSoup(html, 'html.parser')\n",
    "\n",
    "names = ['영업시간','주차','주소','전화번호','기타']\n",
    "\n",
    "# saved_dict = {'매장명':   soup.find('div',class_='store_txt').text}\n",
    "saved_dict = {'매장명':   soup.select('div.store_txt > h2')[0].text}\n",
    "\n",
    "tr_lists = soup.select('#matizCoverLayer0Content > div > \\\n",
    "        div > div.store_txt > table > tbody:nth-child(1) > tr')\n",
    "for idx,tr in enumerate(tr_lists):    \n",
    "    saved_dict[names[idx]] = tr.find('td').text    \n",
    "print(saved_dict)\n",
    "driver.quit()"
   ]
  },
  {
   "cell_type": "markdown",
   "id": "be8f4875-c1a7-4510-a685-cabd39a72029",
   "metadata": {},
   "source": [
    "# 자동차 데이터 수집"
   ]
  },
  {
   "cell_type": "code",
   "execution_count": 11,
   "id": "c35dc057-b82b-424f-b3ce-5372f125cf9e",
   "metadata": {},
   "outputs": [],
   "source": [
    "from selenium import webdriver\n",
    "from selenium.webdriver.common.by import By\n",
    "from selenium.webdriver.support.select import Select\n",
    "from bs4 import BeautifulSoup\n",
    "import time\n",
    "\n",
    "url = 'https://auto.danawa.com/auto/?Work=record'\n",
    "driver = webdriver.Chrome()\n",
    "driver.get(url)\n",
    "time.sleep(1)\n",
    "\n",
    "year_select = Select(driver.find_element(By.XPATH, '//*[@id=\"selMonth\"]') )\n",
    "year_select.select_by_value(\"2024\")\n",
    "month_select = Select(driver.find_element(By.XPATH, '//*[@id=\"selDay\"]') )\n",
    "month_select.select_by_value(\"01\")\n",
    "time.sleep(3)\n",
    "\n",
    "month_select = Select(driver.find_element(By.XPATH, '//*[@id=\"selDay\"]') )\n",
    "month_select.select_by_value(\"02\")\n",
    "time.sleep(3)\n",
    "\n",
    "month_select = Select(driver.find_element(By.XPATH, '//*[@id=\"selDay\"]') )\n",
    "month_select.select_by_value(\"03\")\n",
    "\n",
    "\n",
    "driver.quit()"
   ]
  },
  {
   "cell_type": "markdown",
   "id": "1213e2cd-46a2-444e-8665-1d4d2466ca8a",
   "metadata": {},
   "source": [
    "# 기간별로 수집 - 다나와"
   ]
  },
  {
   "cell_type": "code",
   "execution_count": 12,
   "id": "4e183465-0f54-4dce-904a-2fde6bbf6345",
   "metadata": {},
   "outputs": [],
   "source": [
    "from selenium import webdriver\n",
    "from selenium.webdriver.common.by import By\n",
    "from selenium.webdriver.support.select import Select\n",
    "from bs4 import BeautifulSoup\n",
    "import time\n",
    "\n",
    "url = 'https://auto.danawa.com/auto/?Work=record'\n",
    "driver = webdriver.Chrome()\n",
    "driver.get(url)\n",
    "time.sleep(1)\n",
    "\n",
    "radio_button = driver.find_element(By.XPATH,'//*[@id=\"monthPeriodDiv\"]/span[2]/label/input')\n",
    "radio_button.click()\n",
    "from_year = Select(driver.find_element(By.XPATH, '//*[@id=\"selMonthFrom\"]') )\n",
    "from_year.select_by_value(\"2024\")\n",
    "from_month = Select(driver.find_element(By.XPATH, '//*[@id=\"selDayFrom\"]') )\n",
    "from_month.select_by_value(\"01\")\n",
    "\n",
    "to_year = Select(driver.find_element(By.XPATH, '//*[@id=\"selMonthTo\"]') )\n",
    "to_year.select_by_value(\"2024\")\n",
    "to_month = Select(driver.find_element(By.XPATH, '//*[@id=\"selDayTo\"]') )\n",
    "to_month.select_by_value(\"12\")\n",
    "\n",
    "button = driver.find_element(By.XPATH,'//*[@id=\"monthPeriodDiv\"]/span[2]/input')\n",
    "button.click()\n",
    "time.sleep(1)\n",
    "\n",
    "more_search = driver.find_element(By.XPATH,\n",
    "                    '//*[@id=\"autodanawa_gridC\"]/div[3]/article/main/div/div[2]/div[1]/a')\n",
    "more_search.click()\n",
    "time.sleep(1)\n",
    "\n",
    "# BeautiSoup으로 파싱\n",
    "html = driver.page_source\n",
    "\n",
    "driver.quit()"
   ]
  },
  {
   "cell_type": "code",
   "execution_count": 13,
   "id": "b23cb29b-60de-4e20-ac41-735c0c229eb8",
   "metadata": {},
   "outputs": [
    {
     "name": "stdout",
     "output_type": "stream",
     "text": [
      "아반떼\n",
      "그랜저\n",
      "싼타페\n",
      "투싼\n",
      "쏘나타 디 엣지\n",
      "디 올 뉴 팰리세이드\n",
      "포터2\n",
      "스타리아\n",
      "버스/트럭 (현대)\n",
      "코나\n",
      "포터2 일렉트릭\n",
      "더 뉴 아이오닉 5\n",
      "캐스퍼 일렉트릭\n",
      "베뉴\n",
      "코나 일렉트릭\n",
      "아이오닉 6\n",
      "넥쏘\n",
      "더 뉴 캐스퍼\n",
      "ST1\n",
      "아반떼 N\n",
      "아이오닉 9\n",
      "팰리세이드\n",
      "아이오닉 5 N\n",
      "쏘렌토\n",
      "카니발\n",
      "스포티지\n",
      "셀토스\n",
      "레이\n",
      "봉고 3\n",
      "K5\n",
      "K8\n",
      "EV3\n",
      "EV6\n",
      "니로\n",
      "모닝\n",
      "봉고 3 EV\n",
      "레이 EV\n",
      "K9\n",
      "버스/특수 (기아)\n",
      "EV9\n",
      "니로 EV\n",
      "니로 플러스\n",
      "G80\n",
      "GV70\n",
      "GV80\n",
      "G90\n",
      "G70\n",
      "New Electrified GV70\n",
      "Electrified G80\n",
      "GV60\n",
      "트랙스 크로스오버\n",
      "트레일블레이저\n",
      "타호\n",
      "콜로라도\n",
      "트래버스\n",
      "더 뉴 토레스\n",
      "토레스 EVX\n",
      "티볼리\n",
      "렉스턴 스포츠\n",
      "액티언\n",
      "렉스턴 스포츠 칸\n",
      "렉스턴 뉴 아레나\n",
      "코란도\n",
      "코란도 EV\n",
      "티볼리 에어\n",
      "그랑 콜레오스\n",
      "QM6\n",
      "아르카나\n",
      "SM6\n",
      "마스터\n"
     ]
    }
   ],
   "source": [
    "from selenium import webdriver\n",
    "from selenium.webdriver.common.by import By\n",
    "from selenium.webdriver.support.select import Select\n",
    "from bs4 import BeautifulSoup\n",
    "import time\n",
    "\n",
    "url = 'https://auto.danawa.com/auto/?Work=record'\n",
    "driver = webdriver.Chrome()\n",
    "driver.get(url)\n",
    "time.sleep(1)\n",
    "\n",
    "for i in range(1,17):\n",
    "    button = driver.find_element(By.XPATH, f'//*[@id=\"finder_newcar\"]/div[1]/div[1]/ul/li[{i}]/button')\n",
    "    button.click()\n",
    "    time.sleep(1)\n",
    "    if i !=1 :\n",
    "        button = driver.find_element(By.XPATH, f'//*[@id=\"finder_newcar\"]/div[1]/div[1]/ul/li[{i-1}]/button')\n",
    "        button.click()\n",
    "        time.sleep(1)\n",
    "    html = driver.page_source\n",
    "    soup = BeautifulSoup(html, 'html.parser')\n",
    "    datas = soup.select('#autodanawa_gridC > div.gridMain > \\\n",
    "        article > main > div > table.recordTable.model > tbody > tr')    \n",
    "    for row in datas:\n",
    "        print(row.select('td.title')[0].text.strip())\n",
    "\n",
    "driver.quit()    "
   ]
  },
  {
   "cell_type": "markdown",
   "id": "7b6853f8-4f1a-41ff-9937-b603cee5eddd",
   "metadata": {},
   "source": [
    "# e 나라지표\n",
    "https://www.index.go.kr/unity/potal/main/EachDtlPageDetail.do?idx_cd=1257"
   ]
  },
  {
   "cell_type": "code",
   "execution_count": 14,
   "id": "439edfe6-c13e-425f-a2bb-5af8f37c29ba",
   "metadata": {
    "scrolled": true
   },
   "outputs": [
    {
     "name": "stdout",
     "output_type": "stream",
     "text": [
      "\n",
      "등록대수(만대)\n",
      "2,099\n",
      "2,180\n",
      "2,253\n",
      "2,320\n",
      "2,368\n",
      "2,437\n",
      "2,491\n",
      "2,550\n",
      "2,595\n",
      "2,630\n",
      "\n",
      "----------------------------------------------------------------------------------------------------\n",
      "\n",
      "전년대비 증가대수(천대)\n",
      "871\n",
      "813\n",
      "725\n",
      "674\n",
      "475\n",
      "689\n",
      "545\n",
      "592\n",
      "446\n",
      "349\n",
      "\n",
      "----------------------------------------------------------------------------------------------------\n",
      "\n",
      "전년대비 증감비(%)\n",
      "4.3\n",
      "3.9\n",
      "3.3\n",
      "3.0\n",
      "2.0\n",
      "2.9\n",
      "2.2\n",
      "2.4\n",
      "1.7\n",
      "1.3\n",
      "\n",
      "----------------------------------------------------------------------------------------------------\n"
     ]
    }
   ],
   "source": [
    "# 셀리니움으로 프레임전화 방식\n",
    "from selenium import webdriver\n",
    "from selenium.webdriver.common.by import By\n",
    "from selenium.webdriver.support.select import Select\n",
    "from bs4 import BeautifulSoup\n",
    "import time\n",
    "import requests\n",
    "\n",
    "url = 'https://www.index.go.kr/unity/potal/main/EachDtlPageDetail.do?idx_cd=1257'\n",
    "driver = webdriver.Chrome()\n",
    "driver.get(url)\n",
    "time.sleep(1)\n",
    "\n",
    "# iframe 찾기\n",
    "iframe = driver.find_element(By.ID, 'showStblGams')\n",
    "driver.switch_to.frame(iframe)  # iframe으로 변환\n",
    "html = driver.page_source    \n",
    "soup = BeautifulSoup(html, 'html.parser')   # 소스 파싱\n",
    "for tr in soup.select('#t_Table_125701 > tbody > tr'):\n",
    "    print(tr.text)\n",
    "    print('-'*100)\n",
    "\n",
    "driver.quit()"
   ]
  },
  {
   "cell_type": "markdown",
   "id": "4a17d6b6-d56a-4e48-a6e7-272541c6ca00",
   "metadata": {},
   "source": [
    "# 한국교통안전공단_자동차종합정보 신규등록정보 서비스\n",
    "https://www.data.go.kr/data/15059401/openapi.do"
   ]
  },
  {
   "cell_type": "code",
   "execution_count": 15,
   "id": "96d025ba-7f2b-4acd-b26c-cfc9804603b8",
   "metadata": {},
   "outputs": [
    {
     "name": "stdout",
     "output_type": "stream",
     "text": [
      "b'<?xml version=\"1.0\" encoding=\"UTF-8\" standalone=\"yes\"?><response><header><resultCode>00</resultCode><resultMsg>NORMAL SERVICE</resultMsg></header><body><dtaCo>0</dtaCo></body></response>'\n"
     ]
    }
   ],
   "source": [
    "import requests\n",
    "serviceKey = '4dr0Ui4/QMen1/waNp8qkB24tz549lFOnJIJl/BzZami5c434Bui7bVOp5j1EVKBJzQF2VCgW8QY2lbbXyhqNA=='\n",
    "url = 'http://apis.data.go.kr/B553881/newRegistInfoService/newRegistInfoService'\n",
    "params ={'serviceKey' : serviceKey, 'registYy' : '2017', 'registMt' : '11', 'vhctyAsortCode' : '1', 'registGrcCode' : '1', 'useFuelCode' : '2', 'cnmCode' : '000004', 'prposSeNm' : '1', 'sexdstn' : '남자', 'agrde' : '3', 'dsplvlCode' : '2', 'hmmdImpSeNm' : '국산', 'prye' : '2010' }\n",
    "\n",
    "response = requests.get(url, params=params)\n",
    "print(response.content)"
   ]
  },
  {
   "cell_type": "markdown",
   "id": "60b3c97e-06aa-44b5-a6bb-ab7f7aded2f4",
   "metadata": {},
   "source": [
    "# 경기도_자동차등록 집계 현황"
   ]
  },
  {
   "cell_type": "code",
   "execution_count": 16,
   "id": "c8fb854d-fe1f-41c6-a1cd-e75616c8751b",
   "metadata": {},
   "outputs": [
    {
     "ename": "SyntaxError",
     "evalue": "invalid decimal literal (2598810173.py, line 1)",
     "output_type": "error",
     "traceback": [
      "\u001b[1;36m  Cell \u001b[1;32mIn[16], line 1\u001b[1;36m\u001b[0m\n\u001b[1;33m    998203965f7c4f899ad75c29577602f1\u001b[0m\n\u001b[1;37m            ^\u001b[0m\n\u001b[1;31mSyntaxError\u001b[0m\u001b[1;31m:\u001b[0m invalid decimal literal\n"
     ]
    }
   ],
   "source": [
    "998203965f7c4f899ad75c29577602f1\n",
    "https://openapi.gg.go.kr/CarRegistration?"
   ]
  },
  {
   "cell_type": "code",
   "execution_count": null,
   "id": "6bfe3808-8490-4f6f-b034-b848fb97b601",
   "metadata": {},
   "outputs": [],
   "source": [
    "import requests\n",
    "import json\n",
    "serviceKey = '4dr0Ui4/QMen1/waNp8qkB24tz549lFOnJIJl/BzZami5c434Bui7bVOp5j1EVKBJzQF2VCgW8QY2lbbXyhqNA=='\n",
    "url = 'https://openapi.gg.go.kr/CarRegistration?'\n",
    "params ={'KEY' : serviceKey, 'Type' : 'json'}\n",
    "response.encoding = response.apparent_encoding  # 시스템에서 사용한 인코딩 자동 감지\n",
    "response = requests.get(url, params=params)\n",
    "result_dict = json.loads(response.content)\n",
    "print(json.dumps(result_dict, indent=2,ensure_ascii=False) )\n"
   ]
  },
  {
   "cell_type": "markdown",
   "id": "292920f4-46e7-49ee-b760-25a63a602e93",
   "metadata": {},
   "source": [
    "# 네이버 자동차"
   ]
  },
  {
   "cell_type": "code",
   "execution_count": null,
   "id": "990deedb-7991-4ff1-8f03-3dd02f36abfe",
   "metadata": {},
   "outputs": [],
   "source": [
    "url = 'https://search.naver.com/search.naver?sm=tab_hty.top&where=nexearch&ssc=tab.nx.all&query=%EC%9E%90%EB%8F%99%EC%B0%A8+%ED%8C%90%EB%A7%A4%EB%9F%89&oquery=%EB%84%A4%EC%9D%B4%EB%B2%84+%EC%8B%A0%EC%B0%A8+%ED%8C%90%EB%A7%A4%EB%9F%89&tqi=i9nRHlqosesss4arjwKssssssyG-448832'\n",
    "from selenium import webdriver\n",
    "from selenium.webdriver.common.by import By\n",
    "from selenium.webdriver.support.select import Select\n",
    "from bs4 import BeautifulSoup\n",
    "import time\n",
    "import requests\n",
    "\n",
    "driver = webdriver.Chrome()\n",
    "driver.get(url)\n",
    "time.sleep(1)  # 웹사이트 기다림\n",
    "\n",
    "button = driver.find_element(By.XPATH,'//*[@id=\"main_pack\"]/div[3]/div[2]/div[1]/\\\n",
    "    div/div[1]/div/div[1]/a[2]')\n",
    "button.click()\n",
    "time.sleep(1)  # 팝업 기다림\n",
    "\n",
    "button = driver.find_element(By.XPATH, '//*[@id=\"main_pack\"]/div[3]/div[2]/div[1]/div\\\n",
    "    /div[1]/div/div[2]/div/div[2]/div/div/div/ul/li[1]/a')\n",
    "button.click()\n",
    "time.sleep(1)  # 변경된 데이터 반영 기다림\n",
    "\n",
    "# 파싱\n",
    "html = driver.page_source\n",
    "soup = BeautifulSoup(html, 'html.parser')\n",
    "div_lists = soup.select('#main_pack > div.sc_new.cs_common_module.case_list.color_5._cs_car_month_list > \\\n",
    "    div.cm_content_wrap > div.cm_content_area > div > div._car_panel_wrapper > \\\n",
    "    div:nth-child(1) > div > div')\n",
    "for div in div_lists:\n",
    "    print(div.find('strong',class_='title').text , \n",
    "          div.find_all('span',class_='info_txt')[0].text,\n",
    "          div.find_all('span',class_='info_txt')[1].text\n",
    "         )    \n",
    "\n",
    "driver.quit()    "
   ]
  },
  {
   "cell_type": "code",
   "execution_count": null,
   "id": "60639b6e-f156-4f27-b206-45d8ed468354",
   "metadata": {},
   "outputs": [],
   "source": [
    "url = 'https://search.naver.com/search.naver?sm=tab_hty.top&where=nexearch&ssc=tab.nx.all&query=%EC%9E%90%EB%8F%99%EC%B0%A8+%ED%8C%90%EB%A7%A4%EB%9F%89&oquery=%EB%84%A4%EC%9D%B4%EB%B2%84+%EC%8B%A0%EC%B0%A8+%ED%8C%90%EB%A7%A4%EB%9F%89&tqi=i9nRHlqosesss4arjwKssssssyG-448832'\n",
    "from selenium import webdriver\n",
    "from selenium.webdriver.common.by import By\n",
    "from selenium.webdriver.support.select import Select\n",
    "from bs4 import BeautifulSoup\n",
    "import time\n",
    "import requests\n",
    "\n",
    "driver = webdriver.Chrome()\n",
    "driver.get(url)   # 메이 사이트 접속\n",
    "time.sleep(1)  # 웹사이트 기다림\n",
    "\n",
    "# 1월선택을 위해 month 팝업클릭\n",
    "button = driver.find_element(By.XPATH,'//*[@id=\"main_pack\"]/div[3]/div[2]/div[1]/\\\n",
    "    div/div[1]/div/div[1]/a[2]')\n",
    "button.click()\n",
    "time.sleep(1)  # 팝업 기다림\n",
    "\n",
    "# month 팝업에서 1월 선택\n",
    "button = driver.find_element(By.XPATH, '//*[@id=\"main_pack\"]/div[3]/div[2]/div[1]/div\\\n",
    "    /div[1]/div/div[2]/div/div[2]/div/div/div/ul/li[1]/a')\n",
    "button.click()\n",
    "time.sleep(1)  # 변경된 데이터 반영 기다림\n",
    "\n",
    "# 데이터 파싱\n",
    "html = driver.page_source\n",
    "soup = BeautifulSoup(html, 'html.parser')\n",
    "div_lists = soup.select('#main_pack > div.sc_new.cs_common_module.case_list.color_5._cs_car_month_list > \\\n",
    "    div.cm_content_wrap > div.cm_content_area > div > div._car_panel_wrapper > \\\n",
    "    div:nth-child(1) > div > div')\n",
    "for div in div_lists:\n",
    "    print(div.find('strong',class_='title').text , \n",
    "          div.find_all('span',class_='info_txt')[0].text,\n",
    "          div.find_all('span',class_='info_txt')[1].text\n",
    "         )    \n",
    "\n",
    "print('2 page -----------------------------------------------------------------')\n",
    "# 다음페이지 이동\n",
    "next_xpath = '//*[@id=\"main_pack\"]/div[3]/div[2]/div[1]/div/div[4]/div/a[2]'\n",
    "next_button = driver.find_element(By.XPATH, next_xpath)\n",
    "next_button.click()\n",
    "time.sleep(1) # 다음페이지 나올때 까지 기다림\n",
    "\n",
    "# 데이터 파싱\n",
    "html = driver.page_source\n",
    "soup = BeautifulSoup(html, 'html.parser')\n",
    "div_lists = soup.select('#main_pack > div.sc_new.cs_common_module.case_list.color_5._cs_car_month_list > \\\n",
    "    div.cm_content_wrap > div.cm_content_area > div > div._car_panel_wrapper > \\\n",
    "    div:nth-child(2) > div > div')\n",
    "for div in div_lists:\n",
    "    print(div.find('strong',class_='title').text , \n",
    "          div.find_all('span',class_='info_txt')[0].text,\n",
    "          div.find_all('span',class_='info_txt')[1].text\n",
    "         )    \n",
    "\n",
    "# 종료\n",
    "driver.quit()"
   ]
  },
  {
   "cell_type": "markdown",
   "id": "7a62973b-145a-4b53-a557-5bb1dfb63f63",
   "metadata": {},
   "source": [
    "# 코드 구조화"
   ]
  },
  {
   "cell_type": "code",
   "execution_count": null,
   "id": "21cb69c6-deb6-44df-ab09-647f1700bbc5",
   "metadata": {},
   "outputs": [],
   "source": [
    "def data_parser(driver,page_num):\n",
    "    html = driver.page_source\n",
    "    soup = BeautifulSoup(html, 'html.parser')\n",
    "    div_lists = soup.select(f'#main_pack > div.sc_new.cs_common_module.case_list.color_5._cs_car_month_list > \\\n",
    "        div.cm_content_wrap > div.cm_content_area > div > div._car_panel_wrapper > \\\n",
    "        div:nth-child({page_num}) > div > div')\n",
    "    for div in div_lists:\n",
    "        print(div.find('strong',class_='title').text , \n",
    "              div.find_all('span',class_='info_txt')[0].text,\n",
    "              div.find_all('span',class_='info_txt')[1].text\n",
    "             )   "
   ]
  },
  {
   "cell_type": "code",
   "execution_count": null,
   "id": "ee382da7-0a60-4ef4-b2f0-1df875563116",
   "metadata": {},
   "outputs": [],
   "source": [
    "url = 'https://search.naver.com/search.naver?sm=tab_hty.top&where=nexearch&ssc=tab.nx.all&query=%EC%9E%90%EB%8F%99%EC%B0%A8+%ED%8C%90%EB%A7%A4%EB%9F%89&oquery=%EB%84%A4%EC%9D%B4%EB%B2%84+%EC%8B%A0%EC%B0%A8+%ED%8C%90%EB%A7%A4%EB%9F%89&tqi=i9nRHlqosesss4arjwKssssssyG-448832'\n",
    "from selenium import webdriver\n",
    "from selenium.webdriver.common.by import By\n",
    "from selenium.webdriver.support.select import Select\n",
    "from bs4 import BeautifulSoup\n",
    "import time\n",
    "import requests\n",
    "\n",
    "driver = webdriver.Chrome()\n",
    "driver.get(url)   # 메이 사이트 접속\n",
    "time.sleep(1)  # 웹사이트 기다림\n",
    "\n",
    "# 1월선택을 위해 month 팝업클릭\n",
    "button = driver.find_element(By.XPATH,'//*[@id=\"main_pack\"]/div[3]/div[2]/div[1]/\\\n",
    "    div/div[1]/div/div[1]/a[2]')\n",
    "button.click()\n",
    "time.sleep(1)  # 팝업 기다림\n",
    "\n",
    "# month 팝업에서 1월 선택\n",
    "button = driver.find_element(By.XPATH, '//*[@id=\"main_pack\"]/div[3]/div[2]/div[1]/div\\\n",
    "    /div[1]/div/div[2]/div/div[2]/div/div/div/ul/li[1]/a')\n",
    "button.click()\n",
    "time.sleep(1)  # 변경된 데이터 반영 기다림\n",
    "\n",
    "data_parser(driver,1)    \n",
    "for i in range(2,14):  # 1    \n",
    "    print(f'페이지 {i}'+ ('-'*50) )\n",
    "    # 다음페이지 이동\n",
    "    next_xpath = '//*[@id=\"main_pack\"]/div[3]/div[2]/div[1]/div/div[4]/div/a[2]'\n",
    "    next_button = driver.find_element(By.XPATH, next_xpath)\n",
    "    next_button.click()\n",
    "    time.sleep(1) # 다음페이지 나올때 까지 기다림\n",
    "    # 데이터 파싱\n",
    "    data_parser(driver,i)    \n",
    "\n",
    "# 종료\n",
    "driver.quit()"
   ]
  },
  {
   "cell_type": "code",
   "execution_count": 24,
   "id": "4ab8333d-6491-4f98-b2c3-f10788c7ed9c",
   "metadata": {},
   "outputs": [
    {
     "ename": "IndexError",
     "evalue": "list assignment index out of range",
     "output_type": "error",
     "traceback": [
      "\u001b[1;31m---------------------------------------------------------------------------\u001b[0m",
      "\u001b[1;31mIndexError\u001b[0m                                Traceback (most recent call last)",
      "Cell \u001b[1;32mIn[24], line 23\u001b[0m\n\u001b[0;32m     21\u001b[0m     \u001b[38;5;28mprint\u001b[39m(span\u001b[38;5;241m.\u001b[39mtext\u001b[38;5;241m.\u001b[39mstrip())  \u001b[38;5;66;03m# 텍스트 출력\u001b[39;00m\n\u001b[0;32m     22\u001b[0m     span_list\u001b[38;5;241m.\u001b[39mappend(span\u001b[38;5;241m.\u001b[39mtext\u001b[38;5;241m.\u001b[39mstrip())\n\u001b[1;32m---> 23\u001b[0m \u001b[38;5;28;01mdel\u001b[39;00m span_list[\u001b[38;5;241m-\u001b[39m\u001b[38;5;241m1\u001b[39m]\n\u001b[0;32m     24\u001b[0m span_list[\u001b[38;5;241m0\u001b[39m:\u001b[38;5;241m3\u001b[39m] \u001b[38;5;241m=\u001b[39m [\u001b[38;5;124m\"\u001b[39m\u001b[38;5;124m날짜\u001b[39m\u001b[38;5;124m\"\u001b[39m, \u001b[38;5;124m\"\u001b[39m\u001b[38;5;124m시도명\u001b[39m\u001b[38;5;124m\"\u001b[39m, \u001b[38;5;124m\"\u001b[39m\u001b[38;5;124m시군구\u001b[39m\u001b[38;5;124m\"\u001b[39m]\n\u001b[0;32m     25\u001b[0m \u001b[38;5;28mprint\u001b[39m(span_list)\n",
      "\u001b[1;31mIndexError\u001b[0m: list assignment index out of range"
     ]
    }
   ],
   "source": [
    "from selenium import webdriver\n",
    "from selenium.webdriver.common.by import By\n",
    "from bs4 import BeautifulSoup\n",
    "import time\n",
    "import requests\n",
    "\n",
    "url = 'https://stat.molit.go.kr/portal/cate/statView.do?hRsId=58&hFormId=5498&hSelectId=5498&hPoint=00&hAppr=1&hDivEng=&oFileName=&rFileName=&midpath=&sFormId=5498&sStart=201101&sEnd=202502&sStyleNum=2&settingRadio=csv'\n",
    "driver = webdriver.Chrome()\n",
    "#chrome 브라우저열기\n",
    "driver.get(url)\n",
    "time.sleep(1)\n",
    "html = driver.page_source\n",
    "soup = BeautifulSoup(html, 'html.parser')\n",
    "th_list = soup.select('#sheet01-table > tbody > tr:nth-child(1) > td:nth-child(2) > div > table > tbody > tr:nth-child(1) > th')\n",
    "\n",
    "\n",
    "span_list = []\n",
    "for th in th_list :\n",
    "    spans = th.find_all(\"span\")\n",
    "for span in spans:\n",
    "    print(span.text.strip())  # 텍스트 출력\n",
    "    span_list.append(span.text.strip())\n",
    "del span_list[-1]\n",
    "span_list[0:3] = [\"날짜\", \"시도명\", \"시군구\"]\n",
    "print(span_list)\n",
    "date = soup.select('#sheet01-table > tbody > tr:nth-child(2) > td:nth-child(1) > div > div.GMPageFirst > table > tbody > tr:nth-child(2) > td.GMClassReadOnly.GMWrap0.GMText.GMCell.IBSheetFont0.HideCol0C1')\n",
    "print('-----------------------------------')\n",
    "tbody = soup.select('#sheet01-table > tbody > tr:nth-child(2) > td:nth-child(1) > div > div.GMPageFirst > table > tbody')\n",
    "tbody = soup.select('#sheet01-table > tbody > tr:nth-child(2) > td:nth-child(1) > div > div.GMPageFirst > table > tbody')\n",
    "print(tbody)\n",
    "tr_list = soup.select('#sheet01-table > tbody > tr:nth-child(2) > td:nth-child(1) > div > div.GMPageFirst > table > tbody > tr.GMDataRow.GMClassFocused')\n",
    "#tr시군구 값 나오는 부분\n",
    "#sheet01-table > tbody > tr:nth-child(2) > td:nth-child(1) > div > div.GMPageFirst > table > tbody > tr:nth-child(3)\n",
    "#sheet01-table > tbody > tr:nth-child(2) > td:nth-child(1) > div > div.GMPageFirst > table > tbody > tr:nth-child(4)\n",
    "\n",
    "\n",
    "\n",
    "for tr in tr_list:\n",
    "    print(tr)\n",
    "    td = tr.find('tr', onmousemove=True)\n",
    "    print(td)\n",
    "    \n",
    "driver.quit()"
   ]
  },
  {
   "cell_type": "code",
   "execution_count": null,
   "id": "2879b133-4021-4779-a6e9-49d686b4bca0",
   "metadata": {},
   "outputs": [],
   "source": []
  },
  {
   "cell_type": "code",
   "execution_count": null,
   "id": "2c4998bb-09ee-45d0-9689-fa707afa2664",
   "metadata": {},
   "outputs": [],
   "source": []
  }
 ],
 "metadata": {
  "kernelspec": {
   "display_name": "Python 3 (ipykernel)",
   "language": "python",
   "name": "python3"
  },
  "language_info": {
   "codemirror_mode": {
    "name": "ipython",
    "version": 3
   },
   "file_extension": ".py",
   "mimetype": "text/x-python",
   "name": "python",
   "nbconvert_exporter": "python",
   "pygments_lexer": "ipython3",
   "version": "3.12.9"
  }
 },
 "nbformat": 4,
 "nbformat_minor": 5
}
