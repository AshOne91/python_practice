{
 "cells": [
  {
   "cell_type": "markdown",
   "id": "2d8736f4",
   "metadata": {},
   "source": [
    "LangChain 프롬프트 템플릿\n",
    "```\n",
    "LLM 프롬프트를 동적으로 구성하고 재 사용할 수 있도록 해주는 도구\n",
    "    단일입력\n",
    "    다중입력\n",
    "    ChatPromptTemplate 역할 기반 프롬프트 : 시스템/사용자 역할별 프롬프트 구성 .from_message()\n",
    "    PartialPromptTemplate 활용 : 프롬프트 일부를 미리 고정하고 부분포멧팅을 사용(ex 시스템 메시지는 고정)\n",
    "    프롬프트 출력 및 체인 실행 : LCEL\n",
    "    프롬프트 작성 팁: 주의사항 및 모범사례\n",
    "```"
   ]
  },
  {
   "cell_type": "code",
   "execution_count": 1,
   "id": "83c82fc7",
   "metadata": {},
   "outputs": [
    {
     "name": "stdout",
     "output_type": "stream",
     "text": [
      "Note: you may need to restart the kernel to use updated packages.\n"
     ]
    }
   ],
   "source": [
    "%pip install langchain langchain-openai python-dotenv --quiet"
   ]
  },
  {
   "cell_type": "code",
   "execution_count": null,
   "id": "5266fb2b",
   "metadata": {},
   "outputs": [],
   "source": [
    "from dotenv import load_dotenv\n",
    "import os\n",
    "\n",
    "# 현재 작업 디렉토리에 있는 .env 파일 경로 지정\n",
    "env_path = os.path.join(os.getcwd(), '.env')\n",
    "load_dotenv(env_path, override=True)  # 덮어쓰기 옵션 추가\n",
    "\n",
    "print(\"현재 작업 디렉토리:\", os.getcwd())\n",
    "print(\"불러온 OPENAI_API_KEY:\", repr(os.getenv(\"OPENAI_API_KEY\")))"
   ]
  },
  {
   "cell_type": "code",
   "execution_count": 3,
   "id": "7f9dc17a",
   "metadata": {},
   "outputs": [
    {
     "name": "stdout",
     "output_type": "stream",
     "text": [
      "당신은 최고 수준의 마케팅 카피라이터 입니다.\n",
      "아래 제품의 매력적인 홍보문구를 100자 내외로 작성해 주세요.\n",
      "\n",
      "제품명: 이클립스\n"
     ]
    }
   ],
   "source": [
    "from langchain.prompts import PromptTemplate\n",
    "# 템플릿 문자열 정의\n",
    "template_str = (\n",
    "    \"당신은 최고 수준의 마케팅 카피라이터 입니다.\\n\"\n",
    "    \"아래 제품의 매력적인 홍보문구를 100자 내외로 작성해 주세요.\\n\\n\"\n",
    "    \"제품명: {product_name}\"\n",
    ")\n",
    "# PromptTemplate 객체 생성\n",
    "product_prompt = PromptTemplate.from_template(template_str)\n",
    "# 템플릿에 값 채우기\n",
    "formatted_prompt = product_prompt.format(product_name=\"이클립스\")\n",
    "print(formatted_prompt)"
   ]
  },
  {
   "cell_type": "code",
   "execution_count": 6,
   "id": "c5240a11",
   "metadata": {},
   "outputs": [
    {
     "name": "stdout",
     "output_type": "stream",
     "text": [
      "\"강력한 상체를 위한 첫걸음! 턱걸이로 근력을 키우고, 자신감을 높이세요. 집에서도 쉽게 운동하는 즐거움, 지금 시작해보세요!\"\n"
     ]
    }
   ],
   "source": [
    "from langchain_openai import ChatOpenAI\n",
    "# OpenAI API 클라이언트 생성\n",
    "llm = ChatOpenAI(\n",
    "    model_name=\"gpt-4o-mini\", temperature=0)\n",
    "# Runnable 객체 생성 LChain\n",
    "chain = product_prompt | llm\n",
    "result = chain.invoke({\"product_name\": \"턱걸이\"})\n",
    "print(result.content)"
   ]
  },
  {
   "cell_type": "code",
   "execution_count": 10,
   "id": "d740cc80",
   "metadata": {},
   "outputs": [
    {
     "name": "stdout",
     "output_type": "stream",
     "text": [
      "아래는 뉴스 기사 제목과 키워드 입니다.\n",
      "이 정보를 바탕으로 한 문단으로 구성된 간략한 요약문을 작성하세요\n",
      "\n",
      "제목: AI 기술의 발전과 미래키워드: 인공지능, 머신러닝, 딥러닝\n"
     ]
    }
   ],
   "source": [
    "# 다중 입력\n",
    "# 다중입력 템플릿 문자열 정의\n",
    "multi_template_str = (\n",
    "    \"아래는 뉴스 기사 제목과 키워드 입니다.\\n\"\n",
    "    \"이 정보를 바탕으로 한 문단으로 구성된 간략한 요약문을 작성하세요\\n\\n\"\n",
    "    \"제목: {title}\"\n",
    "    \"키워드: {keywords}\"\n",
    ")\n",
    "# 프롬프트 템플릿 작성\n",
    "summary_prompt = PromptTemplate(template=multi_template_str, input_variables=[\"title\", \"keywords\"])\n",
    "# 포멧팅을 통해 프롬프트 값 확인\n",
    "sample_title = \"AI 기술의 발전과 미래\"\n",
    "sample_keywords = \"인공지능, 머신러닝, 딥러닝\"\n",
    "# 프롬프트에 값 채우기\n",
    "formatted_summary_prompt = summary_prompt.format(\n",
    "    title=sample_title,\n",
    "    keywords=sample_keywords\n",
    ")\n",
    "print(formatted_summary_prompt)"
   ]
  },
  {
   "cell_type": "code",
   "execution_count": 12,
   "id": "53be0240",
   "metadata": {},
   "outputs": [
    {
     "name": "stdout",
     "output_type": "stream",
     "text": [
      "최근 인공지능(AI) 기술의 발전이 가속화되면서 머신러닝과 딥러닝 분야에서도 눈에 띄는 성과가 나타나고 있습니다. 이러한 기술들은 다양한 산업에 혁신을 가져오고 있으며, 데이터 분석, 자동화, 그리고 개인화된 서비스 제공 등에서 중요한 역할을 하고 있습니다. 앞으로 AI 기술은 더욱 발전하여 우리의 일상생활과 비즈니스 환경을 변화시킬 것으로 기대됩니다.\n"
     ]
    }
   ],
   "source": [
    "# LCEL 출력\n",
    "from langchain_core.output_parsers import StrOutputParser\n",
    "parser = StrOutputParser()\n",
    "result_summary = (summary_prompt | llm | parser).invoke({\n",
    "    \"title\": sample_title,\n",
    "    \"keywords\": sample_keywords\n",
    "})\n",
    "print(result_summary)"
   ]
  },
  {
   "cell_type": "code",
   "execution_count": 13,
   "id": "d9fc9062",
   "metadata": {},
   "outputs": [],
   "source": [
    "# ChatPromptTemplate과 역활 기반 프롬프트\n",
    "# 시스템/사용자/어시스턴트 역할(role)\n",
    "# 시스템 메시지: 모델의 동작을 지시\n",
    "# 사용자 메시지: 실제 사용자의 입력\n",
    "# 어시스턴트 메시지 : 이전 모델이 응답한 내용이 있으면 대화맥락유지를 위해 활용"
   ]
  },
  {
   "cell_type": "code",
   "execution_count": 16,
   "id": "5fe4346d",
   "metadata": {},
   "outputs": [
    {
     "name": "stdout",
     "output_type": "stream",
     "text": [
      "System: 당신은 python 분야의 뛰어난 전문가이자 조언자 입니다.사용자의 프로그래밍 질문 에 대해 친절하고 이해하기 쉽게 답변해 주세요.\n",
      "Human: 파이썬의 클래스에 대해서 설명해주세요\n",
      "파이썬의 클래스는 객체 지향 프로그래밍(OOP)의 기본 개념 중 하나로, 객체를 생성하기 위한 청print을 제공합니다. 클래스는 속성과 메서드를 포함할 수 있으며, 이를 통해 데이터와 기능을 하나의 단위로 묶을 수 있습니다.\n",
      "\n",
      "### 클래스의 기본 구조\n",
      "\n",
      "클래스를 정의하려면 `class` 키워드를 사용합니다. 다음은 간단한 클래스의 예입니다:\n",
      "\n",
      "```python\n",
      "class Dog:\n",
      "    # 생성자 메서드\n",
      "    def __init__(self, name, age):\n",
      "        self.name = name  # 인스턴스 변수\n",
      "        self.age = age    # 인스턴스 변수\n",
      "\n",
      "    # 메서드\n",
      "    def bark(self):\n",
      "        return f\"{self.name} says Woof!\"\n",
      "\n",
      "# 클래스의 인스턴스 생성\n",
      "my_dog = Dog(\"Buddy\", 3)\n",
      "\n",
      "# 인스턴스 메서드 호출\n",
      "print(my_dog.bark())  # 출력: Buddy says Woof!\n",
      "```\n",
      "\n",
      "### 주요 개념\n",
      "\n",
      "1. **생성자 (`__init__` 메서드)**:\n",
      "   - 클래스의 인스턴스가 생성될 때 호출되는 특별한 메서드입니다.\n",
      "   - 인스턴스 변수(속성)를 초기화하는 데 사용됩니다.\n",
      "\n",
      "2. **인스턴스 변수**:\n",
      "   - 각 인스턴스에 고유한 데이터를 저장하는 변수입니다.\n",
      "   - `self` 키워드를 사용하여 인스턴스 변수를 정의합니다.\n",
      "\n",
      "3. **메서드**:\n",
      "   - 클래스 내에서 정의된 함수로, 인스턴스의 행동을 정의합니다.\n",
      "   - 메서드는 항상 첫 번째 매개변수로 `self`를 받아야 하며, 이를 통해 인스턴스의 속성에 접근할 수 있습니다.\n",
      "\n",
      "4. **인스턴스**:\n",
      "   - 클래스를 기반으로 생성된 객체입니다. 각 인스턴스는 클래스의 속성과 메서드를 가집니다.\n",
      "\n",
      "5. **상속**:\n",
      "   - 클래스는 다른 클래스로부터 속성과 메서드를 상속받을 수 있습니다. 이를 통해 코드의 재사용성을 높일 수 있습니다.\n",
      "\n",
      "```python\n",
      "class Puppy(Dog):  # Dog 클래스를 상속받음\n",
      "    def play(self):\n",
      "        return f\"{self.name} is playing!\"\n",
      "\n",
      "my_puppy = Puppy(\"Charlie\", 1)\n",
      "print(my_puppy.bark())  # 출력: Charlie says Woof!\n",
      "print(my_puppy.play())  # 출력: Charlie is playing!\n",
      "```\n",
      "\n",
      "### 요약\n",
      "\n",
      "클래스는 객체 지향 프로그래밍의 핵심 요소로, 데이터와 기능을 묶어 관리할 수 있게 해줍니다. 이를 통해 코드의 구조를 더 명확하고 유지보수하기 쉽게 만들 수 있습니다. 클래스와 객체의 개념을 잘 이해하면, 더 복잡한 프로그램을 작성하는 데 큰 도움이 됩니다.\n"
     ]
    }
   ],
   "source": [
    "from langchain.prompts import ChatPromptTemplate\n",
    "# ChatPromptTemplate 객체 생성\n",
    "system_message = (\"당신은 python 분야의 뛰어난 전문가이자 조언자 입니다.\"\n",
    "                  \"사용자의 프로그래밍 질문 에 대해 친절하고 이해하기 쉽게 답변해 주세요.\")\n",
    "user_message = \"{question}\"\n",
    "chat_prompt = ChatPromptTemplate.from_messages([\n",
    "    (\"system\", system_message),\n",
    "    (\"user\", user_message)\n",
    "])\n",
    "# 템플릿을 이용해서 문장을 완성해 보세요\n",
    "sample_question = \"파이썬의 클래스에 대해서 설명해주세요\"\n",
    "formatted_chat_prompt = chat_prompt.format(question=sample_question)\n",
    "print(formatted_chat_prompt)\n",
    "# 파이프라인을 이용해서 llm호출 및 출력력\n",
    "answer = (chat_prompt | llm | parser).invoke({\n",
    "    \"question\": sample_question\n",
    "})\n",
    "print(answer)"
   ]
  },
  {
   "cell_type": "code",
   "execution_count": 17,
   "id": "ca2a8dcb",
   "metadata": {},
   "outputs": [],
   "source": [
    "# PartialPromptTemplate : 템플릿의 일부를 부분적으로 채운 새로운 탬플릿\n",
    "from langchain.prompts import SystemMessagePromptTemplate,HumanMessagePromptTemplate\n",
    "role_system_template = '당신은 {role} 분야의 전문 지식인 입니다. 가능한 자세히 답변해 주세요.'\n",
    "system_prompt = SystemMessagePromptTemplate.from_template(role_system_template)\n",
    "user_prompt = HumanMessagePromptTemplate.from_template(\"{question}\")\n",
    "\n",
    "# chatprompttemplate을 생성\n",
    "base_chat_prompt = ChatPromptTemplate.from_messages([\n",
    "    system_prompt,\n",
    "    user_prompt\n",
    "])\n",
    "\n",
    "partial_chat_prompt = base_chat_prompt.partial(role=\"주식 투자\")"
   ]
  },
  {
   "cell_type": "code",
   "execution_count": 19,
   "id": "f15d217c",
   "metadata": {},
   "outputs": [
    {
     "name": "stdout",
     "output_type": "stream",
     "text": [
      "[SystemMessage(content='당신은 주식 투자 분야의 전문 지식인 입니다. 가능한 자세히 답변해 주세요.', additional_kwargs={}, response_metadata={}), HumanMessage(content='현재 2025년 5월 시장 상황에서 삼성전자 주식 전망은?', additional_kwargs={}, response_metadata={})]\n",
      "2025년 5월의 삼성전자 주식 전망을 평가하기 위해서는 여러 가지 요소를 고려해야 합니다. 다음은 삼성전자의 주식 전망에 영향을 미칠 수 있는 주요 요인들입니다.\n",
      "\n",
      "1. **반도체 시장 동향**: 삼성전자는 세계 최대의 반도체 제조업체 중 하나입니다. 반도체 수요는 AI, IoT, 5G 등 다양한 기술 발전에 따라 증가하고 있습니다. 2025년에는 이러한 기술들이 더욱 발전할 것으로 예상되며, 이는 삼성전자의 반도체 부문에 긍정적인 영향을 미칠 수 있습니다. 그러나 반도체 시장은 경기 사이클에 민감하므로, 글로벌 경제 상황도 중요한 변수입니다.\n",
      "\n",
      "2. **스마트폰 및 전자제품 판매**: 삼성전자는 스마트폰, 가전제품 등 다양한 전자제품을 제조하고 있습니다. 2025년에는 새로운 모델과 기술이 출시될 가능성이 높으며, 이는 소비자 수요에 긍정적인 영향을 미칠 수 있습니다. 특히, 프리미엄 제품군에서의 경쟁력이 중요합니다.\n",
      "\n",
      "3. **글로벌 경제 상황**: 글로벌 경제의 성장률, 금리, 인플레이션 등은 삼성전자의 주가에 큰 영향을 미칠 수 있습니다. 경제가 안정적이고 성장세를 보인다면 소비자 지출이 증가하고, 이는 삼성전자의 매출 증가로 이어질 수 있습니다.\n",
      "\n",
      "4. **경쟁 상황**: 애플, 화웨이, TSMC 등과 같은 경쟁사들과의 경쟁 상황도 중요합니다. 특히, 반도체 분야에서는 TSMC와의 경쟁이 치열해지고 있으며, 이는 삼성전자의 시장 점유율에 영향을 미칠 수 있습니다.\n",
      "\n",
      "5. **정치적 및 규제 환경**: 한국과 미국, 중국 간의 무역 관계 및 규제 환경도 삼성전자의 사업에 영향을 미칠 수 있습니다. 특히 반도체와 관련된 기술 규제가 강화될 경우, 삼성전자의 글로벌 경쟁력에 부정적인 영향을 미칠 수 있습니다.\n",
      "\n",
      "6. **ESG(환경, 사회, 지배구조) 경영**: 최근 투자자들은 ESG 요소를 중요하게 고려하고 있습니다. 삼성전자가 지속 가능한 경영을 통해 긍정적인 이미지를 구축한다면, 이는 주가에 긍정적인 영향을 미칠 수 있습니다.\n",
      "\n",
      "결론적으로, 삼성전자의 주식 전망은 긍정적일 수 있지만, 여러 외부 요인에 따라 변동성이 클 수 있습니다. 따라서 투자 결정을 내리기 전에 시장 동향, 기업 실적, 글로벌 경제 상황 등을 종합적으로 분석하는 것이 중요합니다.\n"
     ]
    }
   ],
   "source": [
    "# partial로 생성된 프롬프트에 질문만 채워 프롬프트 구성\n",
    "sample_question = \"현재 2025년 5월 시장 상황에서 삼성전자 주식 전망은?\"\n",
    "message = partial_chat_prompt.format_messages(question =sample_question)\n",
    "print(message)\n",
    "# LCEL - invoke\n",
    "result = (partial_chat_prompt | llm | parser).invoke({\n",
    "    \"question\": sample_question\n",
    "})\n",
    "print(result)"
   ]
  },
  {
   "cell_type": "code",
   "execution_count": null,
   "id": "436805b1",
   "metadata": {},
   "outputs": [],
   "source": []
  }
 ],
 "metadata": {
  "kernelspec": {
   "display_name": "LLM",
   "language": "python",
   "name": "python3"
  },
  "language_info": {
   "codemirror_mode": {
    "name": "ipython",
    "version": 3
   },
   "file_extension": ".py",
   "mimetype": "text/x-python",
   "name": "python",
   "nbconvert_exporter": "python",
   "pygments_lexer": "ipython3",
   "version": "3.13.2"
  }
 },
 "nbformat": 4,
 "nbformat_minor": 5
}
