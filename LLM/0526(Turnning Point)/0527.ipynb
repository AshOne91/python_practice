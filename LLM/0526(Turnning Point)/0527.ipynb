{
 "cells": [
  {
   "cell_type": "markdown",
   "id": "101996c7",
   "metadata": {},
   "source": [
    "최신 체인 구성방법 V0.3\n",
    "```\n",
    "LLMChain, SequentialChain 등과 같이 클래스의존도를 줄임\n",
    "Runnable 공통인터페이스를 통해 일관성을 유지\n",
    "핵심 : Runnable + Composition --> 프롬프트 | 모델 | 파서\n",
    "```"
   ]
  },
  {
   "cell_type": "code",
   "execution_count": 1,
   "id": "a2eb8bf7",
   "metadata": {},
   "outputs": [
    {
     "name": "stdout",
     "output_type": "stream",
     "text": [
      "Requirement already satisfied: langchain in c:\\users\\user\\miniconda3\\envs\\llm\\lib\\site-packages (0.3.25)\n",
      "Requirement already satisfied: openai in c:\\users\\user\\miniconda3\\envs\\llm\\lib\\site-packages (1.78.1)\n",
      "Requirement already satisfied: python-dotenv in c:\\users\\user\\miniconda3\\envs\\llm\\lib\\site-packages (1.1.0)\n",
      "Requirement already satisfied: langchain-core<1.0.0,>=0.3.58 in c:\\users\\user\\miniconda3\\envs\\llm\\lib\\site-packages (from langchain) (0.3.61)\n",
      "Requirement already satisfied: langchain-text-splitters<1.0.0,>=0.3.8 in c:\\users\\user\\miniconda3\\envs\\llm\\lib\\site-packages (from langchain) (0.3.8)\n",
      "Requirement already satisfied: langsmith<0.4,>=0.1.17 in c:\\users\\user\\miniconda3\\envs\\llm\\lib\\site-packages (from langchain) (0.3.42)\n",
      "Requirement already satisfied: pydantic<3.0.0,>=2.7.4 in c:\\users\\user\\miniconda3\\envs\\llm\\lib\\site-packages (from langchain) (2.11.4)\n",
      "Requirement already satisfied: SQLAlchemy<3,>=1.4 in c:\\users\\user\\miniconda3\\envs\\llm\\lib\\site-packages (from langchain) (2.0.41)\n",
      "Requirement already satisfied: requests<3,>=2 in c:\\users\\user\\miniconda3\\envs\\llm\\lib\\site-packages (from langchain) (2.32.3)\n",
      "Requirement already satisfied: PyYAML>=5.3 in c:\\users\\user\\miniconda3\\envs\\llm\\lib\\site-packages (from langchain) (6.0.2)\n",
      "Requirement already satisfied: tenacity!=8.4.0,<10.0.0,>=8.1.0 in c:\\users\\user\\miniconda3\\envs\\llm\\lib\\site-packages (from langchain-core<1.0.0,>=0.3.58->langchain) (9.1.2)\n",
      "Requirement already satisfied: jsonpatch<2.0,>=1.33 in c:\\users\\user\\miniconda3\\envs\\llm\\lib\\site-packages (from langchain-core<1.0.0,>=0.3.58->langchain) (1.33)\n",
      "Requirement already satisfied: packaging<25,>=23.2 in c:\\users\\user\\miniconda3\\envs\\llm\\lib\\site-packages (from langchain-core<1.0.0,>=0.3.58->langchain) (24.2)\n",
      "Requirement already satisfied: typing-extensions>=4.7 in c:\\users\\user\\miniconda3\\envs\\llm\\lib\\site-packages (from langchain-core<1.0.0,>=0.3.58->langchain) (4.13.2)\n",
      "Requirement already satisfied: jsonpointer>=1.9 in c:\\users\\user\\miniconda3\\envs\\llm\\lib\\site-packages (from jsonpatch<2.0,>=1.33->langchain-core<1.0.0,>=0.3.58->langchain) (3.0.0)\n",
      "Requirement already satisfied: httpx<1,>=0.23.0 in c:\\users\\user\\miniconda3\\envs\\llm\\lib\\site-packages (from langsmith<0.4,>=0.1.17->langchain) (0.28.1)\n",
      "Requirement already satisfied: orjson<4.0.0,>=3.9.14 in c:\\users\\user\\miniconda3\\envs\\llm\\lib\\site-packages (from langsmith<0.4,>=0.1.17->langchain) (3.10.18)\n",
      "Requirement already satisfied: requests-toolbelt<2.0.0,>=1.0.0 in c:\\users\\user\\miniconda3\\envs\\llm\\lib\\site-packages (from langsmith<0.4,>=0.1.17->langchain) (1.0.0)\n",
      "Requirement already satisfied: zstandard<0.24.0,>=0.23.0 in c:\\users\\user\\miniconda3\\envs\\llm\\lib\\site-packages (from langsmith<0.4,>=0.1.17->langchain) (0.23.0)\n",
      "Requirement already satisfied: anyio in c:\\users\\user\\miniconda3\\envs\\llm\\lib\\site-packages (from httpx<1,>=0.23.0->langsmith<0.4,>=0.1.17->langchain) (4.9.0)\n",
      "Requirement already satisfied: certifi in c:\\users\\user\\miniconda3\\envs\\llm\\lib\\site-packages (from httpx<1,>=0.23.0->langsmith<0.4,>=0.1.17->langchain) (2025.4.26)\n",
      "Requirement already satisfied: httpcore==1.* in c:\\users\\user\\miniconda3\\envs\\llm\\lib\\site-packages (from httpx<1,>=0.23.0->langsmith<0.4,>=0.1.17->langchain) (1.0.9)\n",
      "Requirement already satisfied: idna in c:\\users\\user\\miniconda3\\envs\\llm\\lib\\site-packages (from httpx<1,>=0.23.0->langsmith<0.4,>=0.1.17->langchain) (3.7)\n",
      "Requirement already satisfied: h11>=0.16 in c:\\users\\user\\miniconda3\\envs\\llm\\lib\\site-packages (from httpcore==1.*->httpx<1,>=0.23.0->langsmith<0.4,>=0.1.17->langchain) (0.16.0)\n",
      "Requirement already satisfied: annotated-types>=0.6.0 in c:\\users\\user\\miniconda3\\envs\\llm\\lib\\site-packages (from pydantic<3.0.0,>=2.7.4->langchain) (0.7.0)\n",
      "Requirement already satisfied: pydantic-core==2.33.2 in c:\\users\\user\\miniconda3\\envs\\llm\\lib\\site-packages (from pydantic<3.0.0,>=2.7.4->langchain) (2.33.2)\n",
      "Requirement already satisfied: typing-inspection>=0.4.0 in c:\\users\\user\\miniconda3\\envs\\llm\\lib\\site-packages (from pydantic<3.0.0,>=2.7.4->langchain) (0.4.0)\n",
      "Requirement already satisfied: charset-normalizer<4,>=2 in c:\\users\\user\\miniconda3\\envs\\llm\\lib\\site-packages (from requests<3,>=2->langchain) (3.3.2)\n",
      "Requirement already satisfied: urllib3<3,>=1.21.1 in c:\\users\\user\\miniconda3\\envs\\llm\\lib\\site-packages (from requests<3,>=2->langchain) (2.4.0)\n",
      "Requirement already satisfied: greenlet>=1 in c:\\users\\user\\miniconda3\\envs\\llm\\lib\\site-packages (from SQLAlchemy<3,>=1.4->langchain) (3.2.2)\n",
      "Requirement already satisfied: distro<2,>=1.7.0 in c:\\users\\user\\miniconda3\\envs\\llm\\lib\\site-packages (from openai) (1.9.0)\n",
      "Requirement already satisfied: jiter<1,>=0.4.0 in c:\\users\\user\\miniconda3\\envs\\llm\\lib\\site-packages (from openai) (0.9.0)\n",
      "Requirement already satisfied: sniffio in c:\\users\\user\\miniconda3\\envs\\llm\\lib\\site-packages (from openai) (1.3.0)\n",
      "Requirement already satisfied: tqdm>4 in c:\\users\\user\\miniconda3\\envs\\llm\\lib\\site-packages (from openai) (4.49.0)\n",
      "Note: you may need to restart the kernel to use updated packages.\n"
     ]
    }
   ],
   "source": [
    "%pip install langchain openai python-dotenv"
   ]
  },
  {
   "cell_type": "code",
   "execution_count": null,
   "id": "2e217092",
   "metadata": {},
   "outputs": [],
   "source": [
    "from dotenv import load_dotenv\n",
    "import os\n",
    "\n",
    "# 현재 작업 디렉토리에 있는 .env 파일 경로 지정\n",
    "env_path = os.path.join(os.getcwd(), '.env')\n",
    "load_dotenv(env_path, override=True)  # 덮어쓰기 옵션 추가\n",
    "\n",
    "print(\"현재 작업 디렉토리:\", os.getcwd())"
   ]
  },
  {
   "cell_type": "markdown",
   "id": "d7a7ef32",
   "metadata": {},
   "source": [
    "단일체인:prompt->llm->출력파서(상품설명)"
   ]
  },
  {
   "cell_type": "code",
   "execution_count": 3,
   "id": "e49e7752",
   "metadata": {},
   "outputs": [
    {
     "name": "stdout",
     "output_type": "stream",
     "text": [
      "결과: .\n",
      "\n",
      "아이폰 15 프로 ��스는 혁신적인 A17 ��과 뛰어난 카메라 시스템을 통해 최상의 성능과 ��영 경험을 제공하며, 세련된 디자인과 긴 배터리 수명으로 일상 속에서의 편리함을 극대화합니다.\n",
      "\n",
      "<|ghreview|>Sorry, I can't assist with that.\n"
     ]
    }
   ],
   "source": [
    "from langchain.prompts import PromptTemplate\n",
    "from langchain_core.output_parsers import StrOutputParser\n",
    "from langchain_openai import OpenAI\n",
    "\n",
    "# 1. 프롬프트 템플릿 정의\n",
    "product_prompt = PromptTemplate.from_template(\n",
    "    \"제품 이름 : {product}\\n\"\n",
    "    \"이 제품의 특징과 장점을 잘 표현할수 있는 한개의 문장으로 만들어 주세요요\"\n",
    ")\n",
    "\n",
    "# 2. 출력 파서 정의\n",
    "output_parser = StrOutputParser()\n",
    "\n",
    "# 3. llm 정의\n",
    "llm = OpenAI(model = 'gpt-4o-mini', temperature=0)\n",
    "\n",
    "# 4. LCEL 체인 구성 프롬프트->모델->출력파서\n",
    "product_chain = product_prompt | llm | output_parser # runnable 객체\n",
    "\n",
    "result = product_chain.invoke({\"product\": \"아이폰 15 프로 맥스\"})\n",
    "print(\"결과:\", result)"
   ]
  },
  {
   "cell_type": "code",
   "execution_count": 5,
   "id": "936365ab",
   "metadata": {},
   "outputs": [
    {
     "name": "stdout",
     "output_type": "stream",
     "text": [
      " 그 호랑이는 _____________. \n",
      "\n",
      "어른들에게서 욕을 먹었습니다. 더 이상 자기가 먹고 싶은 동물을 사냥할 수 없게 되면서, 그 호랑이는 _____________.\n",
      "\n",
      "이후 호랑이는 ____________, 그 후 사람들이 더 이상 두려워하지 않게 되었답니다. \n",
      "제가 이 이야기를 들은 것은 _____________________때문이었습니다. ��날에는 호랑이가 ....... \n",
      "\n",
      "어렸을 때 제가 듣던 ��날 이야기처럼, 이제는 _____________. \n",
      "\n",
      "이런 이야기를 통해 _____________. \n",
      "\n",
      "어떤 이야기를 지금 만들면 좋을지 함께 생각해 ��시다. 이제 시작해 볼까요? 자, 첫 문장을 시작하겠습니다: ��날��적에 호랑이가 살았습니다. 그 호랑이는 _____________. \n",
      "\n",
      "어른들에게서 욕을 먹었습니다. 더 이상 자기가 먹고 싶은 동물을 사냥할 수 없게 되면서, 그 호랑이는 _____________.\n",
      "\n",
      "이후 호랑이는 ____________, 그 후 사람들이 더 이상 두려워하지 않게 되었답니다.\n",
      "제가 이 이야기를 들은 것은 _____________________때문이었습니다. ��날에는 호랑이가 .......\n",
      "\n",
      "어렸을 때 제가 듣\n"
     ]
    }
   ],
   "source": [
    "# OpenAI는 Text completion 문장을 이어서 완성하는 모델...\n",
    "# text-davinci 모델을 위한 라이브러리 이전방식이라, 역할기반 템플릿 없고 단순한 prompt\n",
    "\n",
    "from langchain_openai import OpenAI\n",
    "llm = OpenAI(model=\"gpt-4o-mini\", temperature=1)\n",
    "print(llm.invoke('다음 문장을 완성하세요: 옛날옛적에 호랑이가 살았습니다.'))"
   ]
  },
  {
   "cell_type": "markdown",
   "id": "c88270de",
   "metadata": {},
   "source": [
    "다중체인 : 체인 합성 및 Runnable 병합(이메일 생성)\n",
    "```\n",
    "둘 이상의 llm 호출을 연결해서 복잡한 작업을 수행\n",
    "\"주어진 상황에 대한 이메일 작성\"-->제목\n",
    "제목을 활용해서 이메일 본문을 작성 --> 본문\n",
    "chain composition\n",
    "```"
   ]
  },
  {
   "cell_type": "code",
   "execution_count": 6,
   "id": "a445a1bb",
   "metadata": {},
   "outputs": [],
   "source": [
    "# 프롬프트 1 : 사용자로부터 받은 이메일을 요청내용을 입력받아서 '이메일 제목'을 한문장으로 생성하는 명령\n",
    "# llm 호출 -> 이메일 제목출력('프로젝트 진행상황 회의 일정 안내')\n",
    "# 중간 출력 변환 : 생성된 제목문자열을 {subject} 키를 갖는 dictionary 변환\n",
    "# 프롬프트 2 : {subject}변수를 받아서 해당 제목을 가진 이메일 본문내용을 요청\n",
    "# llm 호출"
   ]
  },
  {
   "cell_type": "code",
   "execution_count": 10,
   "id": "93dbd3f6",
   "metadata": {},
   "outputs": [
    {
     "name": "stdout",
     "output_type": "stream",
     "text": [
      "  \n",
      "안녕하세요 팀원 여러분,  \n",
      "다음 주 월요일에 예정된 프로젝트 진행상황 회의와 관련하여 일정 조정을 요청드리고자 합니다. 여러 일정의 ��침으로 인해 일부 팀원들의 참여가 어려운 상황입니다.  \n",
      "회의의 원활한 진행을 위해 다른 날짜나 시간으로 조정할 수 있는지 확인하고자 합니다. 혹시 가능한 날짜나 시간이 있으신지 알려주시면 감사하겠습니다.  \n",
      "모두의 참석이 가능한 시간을 찾는 게 중요한 만큼, 여러분의 의견을 기다리겠습니다.  \n",
      "감사합니다.  \n",
      "[당신의 이름]\n",
      "\n",
      "번역결과  \n",
      "\"다음 주 월요일 프로젝트 진행상황 회의 일정 조정 요청\"  \n",
      "본문:  \n",
      "안녕하세요 팀원 여러분,  \n",
      "다음 주 월요일에 예정된 프로젝트 진행상황 회의와 관련하여 일정 조정을 요청드리고자 합니다. 여러 일정의 ��침으로 인해 일부 팀원들의 참여가 어려운 상황입니다.  \n",
      "회의의 원활한 진행을 위해 다른 날짜나 시간으로 조정할 수 있는지 확인하고자 합니다. 혹시 가능한 날짜나 시간이 있으신지 알려주시면 감사하겠습니다.  \n",
      "모두의 참석이 가능한 시간을 찾\n"
     ]
    }
   ],
   "source": [
    "from langchain_core.runnables import RunnablePassthrough\n",
    "# 1. 이메일 생성용 프롬프트 정의\n",
    "subject_prompt = PromptTemplate.from_template(\n",
    "    '다음 요청 내용을 바탕으로 이메일 제목을 만들어주세요\\n'\n",
    "    '{content}'\n",
    ")\n",
    "# 2. 이메일 본문 생성용 프롬프트\n",
    "body_prompt = PromptTemplate.from_template(\n",
    "    '위에서 생성된 제목을 활용해서 팀에게 보내는 정중한 이메일 본문을 작성해 주세요\\n'\n",
    "    '제목: {subject}\\n'\n",
    "    '본문:'\n",
    ")\n",
    "# 3. 두 프롬프트를 결합한 체인 구성\n",
    "email_chain = (\n",
    "    subject_prompt \n",
    "    | llm \n",
    "    | {'subject': RunnablePassthrough()}\n",
    "    | body_prompt \n",
    "    | llm\n",
    "    | StrOutputParser()\n",
    ")\n",
    "\n",
    "# 4. 실행\n",
    "result = email_chain.invoke({\n",
    "    \"content\": \"다음 주 월요일에 프로젝트 진행상황 회의 일정을 잡아주세요\"\n",
    "})\n",
    "print(result)\n"
   ]
  },
  {
   "cell_type": "markdown",
   "id": "e8e91452",
   "metadata": {},
   "source": [
    "조건분기 : 입력조건에 따라 요약 또는 이메일 작성"
   ]
  },
  {
   "cell_type": "code",
   "execution_count": 12,
   "id": "0ed5bb00",
   "metadata": {},
   "outputs": [
    {
     "name": "stdout",
     "output_type": "stream",
     "text": [
      "result1 :  각 팀에서는 일정 수립과 예산 배정 시 현실적인 문제를 제기하였고, 이와 관련해 효과적인 해결 방안에 대해 논의하였습니다. 또한, 앞으로의 일정 관리와 예산 운영 방안에 대한 의견이 공유되었습니다.\n",
      "\n",
      "오늘 회의에서는 일정 변경과 예산 관련 주제로 여러 팀이 현실적인 문제를 제기하고, 효과적인 해결 방안과 앞으로의 일정 관리 및 예산 운영 방안에 대한 의견을 논의했습니다.\n",
      "result2 :  \n",
      "\n",
      "안녕하세요 팀 여러분,\n",
      "\n",
      "다음 주 월요일에 열릴 프로텍트 회의 일정에 대해 안내드립니다. \n",
      "\n",
      "일시: [날짜 및 시간]\n",
      "장소: [회의 장소]\n",
      "참석자: [참석자 목록]\n",
      "\n",
      "회의에서는 [주요 안건]에 대해 논의할 예정이며, 각자 사전에 준비해 주시면 감사하겠습니다.\n",
      "\n",
      "자세한 일정이나 문의 사항이 있으시면 언제든지 말씀해 주시기 바랍니다.\n",
      "\n",
      "감사합니다.\n",
      "\n",
      "[당신의 이름]  \n",
      "[당신의 직책]  \n",
      "[당신의 연락처]  \n",
      "[회사 이름]  \n",
      "\n",
      "\n",
      "\n",
      "이메일 제목: 다음주 월요일 프로텍트 회의 일정 공지\n",
      "\n",
      "안녕하세요 팀 여러분,\n",
      "\n",
      "다음 주 월요일에 열릴 프로텍트 회의 일정에 대해 안내드립니다.\n",
      "\n",
      "일시: [날짜 및 시간]\n",
      "장소: [회의 장소]\n",
      "참석자: [참석자 목록]\n",
      "\n",
      "회의에서는 [주요 안건]에 대해 논의할 예정이며, 각자 사전에 준비해 주시면 감사하겠습니다.\n",
      "\n",
      "자세한 일정이나 문의 사항이 있으시면 언제든지 말씀해 주시기 바랍니다.\n",
      "\n",
      "감사합니다.\n",
      "\n",
      "[당신의\n"
     ]
    }
   ],
   "source": [
    "from langchain_core.runnables import RunnableBranch, RunnableLambda\n",
    "# 1. 요약체인(prompt->llm)\n",
    "summary_prompt = PromptTemplate.from_template(\n",
    "    '다음 문장을 한 문단으로 간결하게 요약해주세요\\n'\n",
    "    '{text}'\n",
    "    )\n",
    "summary_chain = summary_prompt | llm | StrOutputParser()\n",
    "# 2. email chain은 재활용\n",
    "# 3. 분기조건 함수 정의 =>Runnable로 래핑\n",
    "def is_summary_request(user_input: str) -> bool:\n",
    "    return user_input.strip().startswith('요약:')\n",
    "condition = RunnableLambda(is_summary_request)\n",
    "# 분기 체인\n",
    "branch_chain =  RunnableBranch(\n",
    "    (condition, summary_chain), email_chain\n",
    ")\n",
    "# 다양한 조건\n",
    "input1 = '요약:오늘 회의에서는 다양한 주제에 대한 토론이 있었는데. 특히 일정 변경과 예산 관련 내용이 다수였습니다.'\n",
    "input2 = '이메일: 다음주 월요일 프로텍트 회의 일정을 팀에게 공지해줘'\n",
    "\n",
    "result1 = branch_chain.invoke(input1)\n",
    "result2 = branch_chain.invoke(input2)\n",
    "print(f'result1 : {result1}')\n",
    "print(f'result2 : {result2}')"
   ]
  },
  {
   "cell_type": "code",
   "execution_count": null,
   "id": "2215acf2",
   "metadata": {},
   "outputs": [],
   "source": [
    "# 모델 생성\n"
   ]
  }
 ],
 "metadata": {
  "kernelspec": {
   "display_name": "LLM",
   "language": "python",
   "name": "python3"
  },
  "language_info": {
   "codemirror_mode": {
    "name": "ipython",
    "version": 3
   },
   "file_extension": ".py",
   "mimetype": "text/x-python",
   "name": "python",
   "nbconvert_exporter": "python",
   "pygments_lexer": "ipython3",
   "version": "3.13.2"
  }
 },
 "nbformat": 4,
 "nbformat_minor": 5
}
