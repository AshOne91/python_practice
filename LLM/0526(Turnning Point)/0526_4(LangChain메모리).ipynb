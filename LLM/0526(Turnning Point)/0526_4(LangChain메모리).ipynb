{
 "cells": [
  {
   "cell_type": "markdown",
   "id": "c10935fd",
   "metadata": {},
   "source": [
    "LangChainMemory\n",
    "``` \n",
    "이전 대화 내용을 기억해서 문맥을 유지하는 역할 LangChain 0.3X부터는 LCEL기반으로 체인을 구성, RunnableWithMessageHistory, ChatMessageHistory등의 컴포넌트를 활용해서 세션별 대화 기록을 관리, 대화가 장기화될 경우 요약 메모리를 도입해서 과거 대화를 LLM으로 요약하고 축약된 형태로 저장해서 프롬프트의 길이문제를 해결\n",
    "```"
   ]
  },
  {
   "cell_type": "code",
   "execution_count": 6,
   "id": "1f9e8d2c",
   "metadata": {},
   "outputs": [
    {
     "name": "stdout",
     "output_type": "stream",
     "text": [
      "Note: you may need to restart the kernel to use updated packages.\n"
     ]
    }
   ],
   "source": [
    "%pip install --quiet langchain langchain-openai python-dotenv langchain_redis "
   ]
  },
  {
   "cell_type": "code",
   "execution_count": null,
   "id": "93daa148",
   "metadata": {},
   "outputs": [],
   "source": [
    "from dotenv import load_dotenv\n",
    "import os\n",
    "\n",
    "# 현재 작업 디렉토리에 있는 .env 파일 경로 지정\n",
    "env_path = os.path.join(os.getcwd(), '.env')\n",
    "load_dotenv(env_path, override=True)  # 덮어쓰기 옵션 추가\n",
    "\n",
    "print(\"현재 작업 디렉토리:\", os.getcwd())\n",
    "print(\"불러온 OPENAI_API_KEY:\", repr(os.getenv(\"OPENAI_API_KEY\")))"
   ]
  },
  {
   "cell_type": "code",
   "execution_count": 3,
   "id": "c8c0d68e",
   "metadata": {},
   "outputs": [
    {
     "name": "stdout",
     "output_type": "stream",
     "text": [
      "human: 안녕하세요\n",
      "ai: 안녕하세요! 무엇을 도와드릴까요?\n"
     ]
    }
   ],
   "source": [
    "from langchain_core.chat_history import InMemoryChatMessageHistory\n",
    "# 메모리 객체 생성\n",
    "history = InMemoryChatMessageHistory()\n",
    "# 메시지 추가\n",
    "history.add_user_message(\"안녕하세요\")\n",
    "history.add_ai_message(\"안녕하세요! 무엇을 도와드릴까요?\")\n",
    "# 현재까지의 대화 내용 확인\n",
    "for msg in history.messages:\n",
    "    print(f\"{msg.type}: {msg.content}\")"
   ]
  },
  {
   "cell_type": "code",
   "execution_count": 4,
   "id": "18362c7b",
   "metadata": {},
   "outputs": [
    {
     "data": {
      "text/plain": [
       "InMemoryChatMessageHistory(messages=[HumanMessage(content='안녕하세요', additional_kwargs={}, response_metadata={}), AIMessage(content='안녕하세요! 무엇을 도와드릴까요?', additional_kwargs={}, response_metadata={})])"
      ]
     },
     "execution_count": 4,
     "metadata": {},
     "output_type": "execute_result"
    }
   ],
   "source": [
    "history"
   ]
  },
  {
   "cell_type": "code",
   "execution_count": 7,
   "id": "e9a011bd",
   "metadata": {},
   "outputs": [
    {
     "ename": "ConnectionError",
     "evalue": "Error 10061 connecting to localhost:6379. 대상 컴퓨터에서 연결을 거부했으므로 연결하지 못했습니다.",
     "output_type": "error",
     "traceback": [
      "\u001b[31m---------------------------------------------------------------------------\u001b[39m",
      "\u001b[31mConnectionRefusedError\u001b[39m                    Traceback (most recent call last)",
      "\u001b[36mFile \u001b[39m\u001b[32mc:\\Users\\USER\\miniconda3\\envs\\LLM\\Lib\\site-packages\\redis\\connection.py:378\u001b[39m, in \u001b[36mAbstractConnection.connect\u001b[39m\u001b[34m(self)\u001b[39m\n\u001b[32m    377\u001b[39m \u001b[38;5;28;01mtry\u001b[39;00m:\n\u001b[32m--> \u001b[39m\u001b[32m378\u001b[39m     sock = \u001b[38;5;28mself\u001b[39m.retry.call_with_retry(\n\u001b[32m    379\u001b[39m         \u001b[38;5;28;01mlambda\u001b[39;00m: \u001b[38;5;28mself\u001b[39m._connect(), \u001b[38;5;28;01mlambda\u001b[39;00m error: \u001b[38;5;28mself\u001b[39m.disconnect(error)\n\u001b[32m    380\u001b[39m     )\n\u001b[32m    381\u001b[39m \u001b[38;5;28;01mexcept\u001b[39;00m socket.timeout:\n",
      "\u001b[36mFile \u001b[39m\u001b[32mc:\\Users\\USER\\miniconda3\\envs\\LLM\\Lib\\site-packages\\redis\\retry.py:62\u001b[39m, in \u001b[36mRetry.call_with_retry\u001b[39m\u001b[34m(self, do, fail)\u001b[39m\n\u001b[32m     61\u001b[39m \u001b[38;5;28;01mtry\u001b[39;00m:\n\u001b[32m---> \u001b[39m\u001b[32m62\u001b[39m     \u001b[38;5;28;01mreturn\u001b[39;00m do()\n\u001b[32m     63\u001b[39m \u001b[38;5;28;01mexcept\u001b[39;00m \u001b[38;5;28mself\u001b[39m._supported_errors \u001b[38;5;28;01mas\u001b[39;00m error:\n",
      "\u001b[36mFile \u001b[39m\u001b[32mc:\\Users\\USER\\miniconda3\\envs\\LLM\\Lib\\site-packages\\redis\\connection.py:379\u001b[39m, in \u001b[36mAbstractConnection.connect.<locals>.<lambda>\u001b[39m\u001b[34m()\u001b[39m\n\u001b[32m    377\u001b[39m \u001b[38;5;28;01mtry\u001b[39;00m:\n\u001b[32m    378\u001b[39m     sock = \u001b[38;5;28mself\u001b[39m.retry.call_with_retry(\n\u001b[32m--> \u001b[39m\u001b[32m379\u001b[39m         \u001b[38;5;28;01mlambda\u001b[39;00m: \u001b[38;5;28mself\u001b[39m._connect(), \u001b[38;5;28;01mlambda\u001b[39;00m error: \u001b[38;5;28mself\u001b[39m.disconnect(error)\n\u001b[32m    380\u001b[39m     )\n\u001b[32m    381\u001b[39m \u001b[38;5;28;01mexcept\u001b[39;00m socket.timeout:\n",
      "\u001b[36mFile \u001b[39m\u001b[32mc:\\Users\\USER\\miniconda3\\envs\\LLM\\Lib\\site-packages\\redis\\connection.py:764\u001b[39m, in \u001b[36mConnection._connect\u001b[39m\u001b[34m(self)\u001b[39m\n\u001b[32m    763\u001b[39m \u001b[38;5;28;01mif\u001b[39;00m err \u001b[38;5;129;01mis\u001b[39;00m \u001b[38;5;129;01mnot\u001b[39;00m \u001b[38;5;28;01mNone\u001b[39;00m:\n\u001b[32m--> \u001b[39m\u001b[32m764\u001b[39m     \u001b[38;5;28;01mraise\u001b[39;00m err\n\u001b[32m    765\u001b[39m \u001b[38;5;28;01mraise\u001b[39;00m \u001b[38;5;167;01mOSError\u001b[39;00m(\u001b[33m\"\u001b[39m\u001b[33msocket.getaddrinfo returned an empty list\u001b[39m\u001b[33m\"\u001b[39m)\n",
      "\u001b[36mFile \u001b[39m\u001b[32mc:\\Users\\USER\\miniconda3\\envs\\LLM\\Lib\\site-packages\\redis\\connection.py:752\u001b[39m, in \u001b[36mConnection._connect\u001b[39m\u001b[34m(self)\u001b[39m\n\u001b[32m    751\u001b[39m \u001b[38;5;66;03m# connect\u001b[39;00m\n\u001b[32m--> \u001b[39m\u001b[32m752\u001b[39m sock.connect(socket_address)\n\u001b[32m    754\u001b[39m \u001b[38;5;66;03m# set the socket_timeout now that we're connected\u001b[39;00m\n",
      "\u001b[31mConnectionRefusedError\u001b[39m: [WinError 10061] 대상 컴퓨터에서 연결을 거부했으므로 연결하지 못했습니다",
      "\nDuring handling of the above exception, another exception occurred:\n",
      "\u001b[31mConnectionError\u001b[39m                           Traceback (most recent call last)",
      "\u001b[36mCell\u001b[39m\u001b[36m \u001b[39m\u001b[32mIn[7]\u001b[39m\u001b[32m, line 6\u001b[39m\n\u001b[32m      4\u001b[39m REDIS_URL = os.getenv(\u001b[33m\"\u001b[39m\u001b[33mREDIS_URL\u001b[39m\u001b[33m\"\u001b[39m, \u001b[33m\"\u001b[39m\u001b[33mredis://localhost:6379\u001b[39m\u001b[33m\"\u001b[39m)\n\u001b[32m      5\u001b[39m session_id = \u001b[33m\"\u001b[39m\u001b[33mmy_session_id\u001b[39m\u001b[33m\"\u001b[39m  \u001b[38;5;66;03m# 세션 ID 설정\u001b[39;00m\n\u001b[32m----> \u001b[39m\u001b[32m6\u001b[39m history = RedisChatMessageHistory(redis_url=REDIS_URL, session_id=session_id)\n\u001b[32m      7\u001b[39m \u001b[38;5;66;03m# 메시지 추가\u001b[39;00m\n\u001b[32m      8\u001b[39m history.add_user_message(\u001b[33m\"\u001b[39m\u001b[33m안녕하세요\u001b[39m\u001b[33m\"\u001b[39m)\n",
      "\u001b[36mFile \u001b[39m\u001b[32mc:\\Users\\USER\\miniconda3\\envs\\LLM\\Lib\\site-packages\\langchain_redis\\chat_message_history.py:120\u001b[39m, in \u001b[36mRedisChatMessageHistory.__init__\u001b[39m\u001b[34m(self, session_id, redis_url, key_prefix, ttl, index_name, redis_client, **kwargs)\u001b[39m\n\u001b[32m    118\u001b[39m     \u001b[38;5;28mself\u001b[39m.redis_client.pubsub_configs = {\u001b[33m\"\u001b[39m\u001b[33mpush_handler_func\u001b[39m\u001b[33m\"\u001b[39m: _noop_push_handler}\n\u001b[32m    119\u001b[39m \u001b[38;5;28;01mtry\u001b[39;00m:\n\u001b[32m--> \u001b[39m\u001b[32m120\u001b[39m     \u001b[38;5;28mself\u001b[39m.redis_client.client_setinfo(\u001b[33m\"\u001b[39m\u001b[33mLIB-NAME\u001b[39m\u001b[33m\"\u001b[39m, __full_lib_name__)  \u001b[38;5;66;03m# type: ignore\u001b[39;00m\n\u001b[32m    121\u001b[39m \u001b[38;5;28;01mexcept\u001b[39;00m ResponseError:\n\u001b[32m    122\u001b[39m     \u001b[38;5;66;03m# Fall back to a simple log echo\u001b[39;00m\n\u001b[32m    123\u001b[39m     \u001b[38;5;28mself\u001b[39m.redis_client.echo(__full_lib_name__)\n",
      "\u001b[36mFile \u001b[39m\u001b[32mc:\\Users\\USER\\miniconda3\\envs\\LLM\\Lib\\site-packages\\redis\\commands\\core.py:709\u001b[39m, in \u001b[36mManagementCommands.client_setinfo\u001b[39m\u001b[34m(self, attr, value, **kwargs)\u001b[39m\n\u001b[32m    704\u001b[39m \u001b[38;5;28;01mdef\u001b[39;00m\u001b[38;5;250m \u001b[39m\u001b[34mclient_setinfo\u001b[39m(\u001b[38;5;28mself\u001b[39m, attr: \u001b[38;5;28mstr\u001b[39m, value: \u001b[38;5;28mstr\u001b[39m, **kwargs) -> ResponseT:\n\u001b[32m    705\u001b[39m \u001b[38;5;250m    \u001b[39m\u001b[33;03m\"\"\"\u001b[39;00m\n\u001b[32m    706\u001b[39m \u001b[33;03m    Sets the current connection library name or version\u001b[39;00m\n\u001b[32m    707\u001b[39m \u001b[33;03m    For mor information see https://redis.io/commands/client-setinfo\u001b[39;00m\n\u001b[32m    708\u001b[39m \u001b[33;03m    \"\"\"\u001b[39;00m\n\u001b[32m--> \u001b[39m\u001b[32m709\u001b[39m     \u001b[38;5;28;01mreturn\u001b[39;00m \u001b[38;5;28mself\u001b[39m.execute_command(\u001b[33m\"\u001b[39m\u001b[33mCLIENT SETINFO\u001b[39m\u001b[33m\"\u001b[39m, attr, value, **kwargs)\n",
      "\u001b[36mFile \u001b[39m\u001b[32mc:\\Users\\USER\\miniconda3\\envs\\LLM\\Lib\\site-packages\\redis\\client.py:605\u001b[39m, in \u001b[36mRedis.execute_command\u001b[39m\u001b[34m(self, *args, **options)\u001b[39m\n\u001b[32m    604\u001b[39m \u001b[38;5;28;01mdef\u001b[39;00m\u001b[38;5;250m \u001b[39m\u001b[34mexecute_command\u001b[39m(\u001b[38;5;28mself\u001b[39m, *args, **options):\n\u001b[32m--> \u001b[39m\u001b[32m605\u001b[39m     \u001b[38;5;28;01mreturn\u001b[39;00m \u001b[38;5;28mself\u001b[39m._execute_command(*args, **options)\n",
      "\u001b[36mFile \u001b[39m\u001b[32mc:\\Users\\USER\\miniconda3\\envs\\LLM\\Lib\\site-packages\\redis\\client.py:611\u001b[39m, in \u001b[36mRedis._execute_command\u001b[39m\u001b[34m(self, *args, **options)\u001b[39m\n\u001b[32m    609\u001b[39m pool = \u001b[38;5;28mself\u001b[39m.connection_pool\n\u001b[32m    610\u001b[39m command_name = args[\u001b[32m0\u001b[39m]\n\u001b[32m--> \u001b[39m\u001b[32m611\u001b[39m conn = \u001b[38;5;28mself\u001b[39m.connection \u001b[38;5;129;01mor\u001b[39;00m pool.get_connection()\n\u001b[32m    613\u001b[39m \u001b[38;5;28;01mif\u001b[39;00m \u001b[38;5;28mself\u001b[39m._single_connection_client:\n\u001b[32m    614\u001b[39m     \u001b[38;5;28mself\u001b[39m.single_connection_lock.acquire()\n",
      "\u001b[36mFile \u001b[39m\u001b[32mc:\\Users\\USER\\miniconda3\\envs\\LLM\\Lib\\site-packages\\redis\\utils.py:183\u001b[39m, in \u001b[36mdeprecated_args.<locals>.decorator.<locals>.wrapper\u001b[39m\u001b[34m(*args, **kwargs)\u001b[39m\n\u001b[32m    178\u001b[39m     \u001b[38;5;28;01melif\u001b[39;00m arg \u001b[38;5;129;01min\u001b[39;00m provided_args:\n\u001b[32m    179\u001b[39m         warn_deprecated_arg_usage(\n\u001b[32m    180\u001b[39m             arg, func.\u001b[34m__name__\u001b[39m, reason, version, stacklevel=\u001b[32m3\u001b[39m\n\u001b[32m    181\u001b[39m         )\n\u001b[32m--> \u001b[39m\u001b[32m183\u001b[39m \u001b[38;5;28;01mreturn\u001b[39;00m func(*args, **kwargs)\n",
      "\u001b[36mFile \u001b[39m\u001b[32mc:\\Users\\USER\\miniconda3\\envs\\LLM\\Lib\\site-packages\\redis\\connection.py:1483\u001b[39m, in \u001b[36mConnectionPool.get_connection\u001b[39m\u001b[34m(self, command_name, *keys, **options)\u001b[39m\n\u001b[32m   1479\u001b[39m     \u001b[38;5;28mself\u001b[39m._in_use_connections.add(connection)\n\u001b[32m   1481\u001b[39m \u001b[38;5;28;01mtry\u001b[39;00m:\n\u001b[32m   1482\u001b[39m     \u001b[38;5;66;03m# ensure this connection is connected to Redis\u001b[39;00m\n\u001b[32m-> \u001b[39m\u001b[32m1483\u001b[39m     connection.connect()\n\u001b[32m   1484\u001b[39m     \u001b[38;5;66;03m# connections that the pool provides should be ready to send\u001b[39;00m\n\u001b[32m   1485\u001b[39m     \u001b[38;5;66;03m# a command. if not, the connection was either returned to the\u001b[39;00m\n\u001b[32m   1486\u001b[39m     \u001b[38;5;66;03m# pool before all data has been read or the socket has been\u001b[39;00m\n\u001b[32m   1487\u001b[39m     \u001b[38;5;66;03m# closed. either way, reconnect and verify everything is good.\u001b[39;00m\n\u001b[32m   1488\u001b[39m     \u001b[38;5;28;01mtry\u001b[39;00m:\n",
      "\u001b[36mFile \u001b[39m\u001b[32mc:\\Users\\USER\\miniconda3\\envs\\LLM\\Lib\\site-packages\\redis\\connection.py:384\u001b[39m, in \u001b[36mAbstractConnection.connect\u001b[39m\u001b[34m(self)\u001b[39m\n\u001b[32m    382\u001b[39m     \u001b[38;5;28;01mraise\u001b[39;00m \u001b[38;5;167;01mTimeoutError\u001b[39;00m(\u001b[33m\"\u001b[39m\u001b[33mTimeout connecting to server\u001b[39m\u001b[33m\"\u001b[39m)\n\u001b[32m    383\u001b[39m \u001b[38;5;28;01mexcept\u001b[39;00m \u001b[38;5;167;01mOSError\u001b[39;00m \u001b[38;5;28;01mas\u001b[39;00m e:\n\u001b[32m--> \u001b[39m\u001b[32m384\u001b[39m     \u001b[38;5;28;01mraise\u001b[39;00m \u001b[38;5;167;01mConnectionError\u001b[39;00m(\u001b[38;5;28mself\u001b[39m._error_message(e))\n\u001b[32m    386\u001b[39m \u001b[38;5;28mself\u001b[39m._sock = sock\n\u001b[32m    387\u001b[39m \u001b[38;5;28;01mtry\u001b[39;00m:\n",
      "\u001b[31mConnectionError\u001b[39m: Error 10061 connecting to localhost:6379. 대상 컴퓨터에서 연결을 거부했으므로 연결하지 못했습니다."
     ]
    }
   ],
   "source": [
    "# Radis 기반 채팅 기록 저장소\n",
    "from langchain_redis import RedisChatMessageHistory\n",
    "import os\n",
    "REDIS_URL = os.getenv(\"REDIS_URL\", \"redis://localhost:6379\")\n",
    "session_id = \"my_session_id\"  # 세션 ID 설정\n",
    "history = RedisChatMessageHistory(redis_url=REDIS_URL, session_id=session_id)\n",
    "# 메시지 추가\n",
    "history.add_user_message(\"안녕하세요\")\n",
    "history.add_ai_message(\"안녕하세요! 무엇을 도와드릴까요?\")\n",
    "# 현재까지의 대화 내용 확인\n",
    "for msg in history.messages:\n",
    "    print(f\"{msg.type}: {msg.content}\")"
   ]
  },
  {
   "cell_type": "code",
   "execution_count": 18,
   "id": "2365e96c",
   "metadata": {},
   "outputs": [],
   "source": [
    "# 세션기반 다중사용자 메모리 구조 구현 - 다중사용자 챗봇\n",
    "# 핵심 : session_id를 키로 하는 메모리 저장소만들고 사용자의 대화는 키별로 저장한다.\n",
    "from langchain_core.prompts import ChatPromptTemplate, MessagesPlaceholder\n",
    "from langchain_openai import ChatOpenAI\n",
    "# 프롬프트\n",
    "prompt = ChatPromptTemplate.from_messages([\n",
    "    (\"system\", \"당신은 뛰어난 한국어 상담 챗봇입니다. 질문에 친절하고 자세히 답변해주세요.\"),\n",
    "    MessagesPlaceholder(variable_name=\"history\"),  # ⬅️ 반드시 먼저 위치해야 함\n",
    "    (\"human\", \"{input}\")                           # ⬅️ 사용자의 현재 입력은 마지막\n",
    "])\n",
    "llm = ChatOpenAI(model=\"gpt-3.5-turbo\", temperature=0.0)"
   ]
  },
  {
   "cell_type": "code",
   "execution_count": 19,
   "id": "55527aa7",
   "metadata": {},
   "outputs": [],
   "source": [
    "# LCEL\n",
    "from langchain_core.output_parsers import StrOutputParser\n",
    "chain = prompt | llm | StrOutputParser()"
   ]
  },
  {
   "cell_type": "code",
   "execution_count": 20,
   "id": "c823fc89",
   "metadata": {},
   "outputs": [],
   "source": [
    "# 세션별 메모리 저장소를 딕셔너리로 만들고, 존재하지 않는 새로운 세션 id가 들어오면 InMemoryChatMessageHistory를 생성\n",
    "# get_session_history를 구현"
   ]
  },
  {
   "cell_type": "code",
   "execution_count": 23,
   "id": "cf7d6cb6",
   "metadata": {},
   "outputs": [],
   "source": [
    "from langchain_core.chat_history import InMemoryChatMessageHistory\n",
    "from langchain_core.runnables.history import RunnableWithMessageHistory\n",
    "# 세션 id -> 대화 기록 객체 매핑\n",
    "store = {}\n",
    "def get_session_history(session_id: str) -> InMemoryChatMessageHistory:\n",
    "    '''세션 ID에 해당하는 대화 기록 객체를 반환합니다.\n",
    "    존재하지 않는 세션 ID가 들어오면 새로운 InMemoryChatMessageHistory 객체를 생성합니다.\n",
    "    '''\n",
    "    if session_id not in store:\n",
    "        store[session_id] = InMemoryChatMessageHistory()\n",
    "    return store[session_id]\n",
    "\n",
    "# 메모리를 통합한 체인 래퍼 생성\n",
    "chatbot = RunnableWithMessageHistory(\n",
    "    runnable=chain,                          # ✅ runnable로 지정\n",
    "    get_session_history=get_session_history,  # ✅ get_session_history로 지정\n",
    "    input_messages_key=\"input\",          # 입력 메시지 키\n",
    "    history_messages_key=\"history\"        # 출력 메시지 키\n",
    ")"
   ]
  },
  {
   "cell_type": "code",
   "execution_count": 27,
   "id": "3b6c2953",
   "metadata": {},
   "outputs": [
    {
     "name": "stdout",
     "output_type": "stream",
     "text": [
      "16:43:37 httpx INFO   HTTP Request: POST https://api.openai.com/v1/chat/completions \"HTTP/1.1 200 OK\"\n",
      "Session session1 - 질문: 안녕하세요, 나는 짱구 임.\n",
      "Session session1 - 답변: 안녕하세요, 짱구! 만나서 반가워요. 무엇을 도와드릴까요? 질문이나 이야기가 있으면 언제든지 말씀해주세요. 함께 즐거운 시간 보내요!\n",
      "16:43:39 httpx INFO   HTTP Request: POST https://api.openai.com/v1/chat/completions \"HTTP/1.1 200 OK\"\n",
      "Session session2 - 질문: 안녕하세요, 나는 철수수 임.\n",
      "Session session2 - 답변: 안녕하세요, 철수수님! 만나서 반가워요. 저에게 궁금한 것이 있거나 이야기를 나누고 싶은 내용이 있으면 언제든지 말씀해주세요. 함께 대화를 즐기며 도와드릴게요. 어떤 것이든 물어보세요!\n",
      "16:43:43 httpx INFO   HTTP Request: POST https://api.openai.com/v1/chat/completions \"HTTP/1.1 200 OK\"\n",
      "Session session1 - 질문: 오늘 점심 추천해 주세요.\n",
      "Session session1 - 답변: 짱구님, 안녕하세요! 오늘 점심 추천해 드릴게요. 만약 한식을 좋아하신다면 비빔밥이나 불고기, 김치찌개 등이 좋을 것 같아요. 중식을 좋아하신다면 짜장면이나 탕수육을 추천해드릴게요. 양식을 좋아하신다면 피자나 파스타, 샐러드 등이 좋을 것 같아요. 어떤 음식이 땡기시나요? 좋아하는 음식이나 원하는 식사 스타일을 말씀해주시면 더 자세한 추천을 해드릴 수 있어요. 함께 맛있는 식사를 즐기세요!\n",
      "16:43:45 httpx INFO   HTTP Request: POST https://api.openai.com/v1/chat/completions \"HTTP/1.1 200 OK\"\n",
      "Session session2 - 질문: 오늘 저녁은 뭐 먹을까요?\n",
      "Session session2 - 답변: 오늘 저녁 메뉴를 선택하는 것은 항상 즐거운 일이에요! 어떤 종류의 음식을 좋아하시나요? 한식, 중식, 양식 등 원하시는 음식 종류가 있나요? 또는 오늘 특별히 먹고 싶은 음식이 있으신가요? 제가 도와드릴 수 있도록 자세한 정보를 알려주시면 더욱 도움이 될 거에요. 함께 맛있는 저녁 메뉴를 찾아보는 건 어떨까요?\n"
     ]
    }
   ],
   "source": [
    "# 두개의 세션을 번갈아가면서 대화\n",
    "sessions = [\"session1\", \"session2\"]\n",
    "questions = [\n",
    "    \"안녕하세요, 나는 짱구 임.\",\n",
    "    \"안녕하세요, 나는 철수수 임.\",\n",
    "    \"오늘 점심 추천해 주세요.\",\n",
    "    \"오늘 저녁은 뭐 먹을까요?\"\n",
    "]\n",
    "for i, question in enumerate(questions):\n",
    "    session_id = sessions[i % len(sessions)]\n",
    "    result = chatbot.invoke({\"input\": question}, config={'configurable': {'session_id': session_id}})\n",
    "    print(f\"Session {session_id} - 질문: {question}\")\n",
    "    print(f\"Session {session_id} - 답변: {result}\")\n"
   ]
  },
  {
   "cell_type": "code",
   "execution_count": 29,
   "id": "dcca4800",
   "metadata": {},
   "outputs": [
    {
     "name": "stdout",
     "output_type": "stream",
     "text": [
      "16:44:32 httpx INFO   HTTP Request: POST https://api.openai.com/v1/chat/completions \"HTTP/1.1 200 OK\"\n",
      "죄송합니다, 저는 여러분이 짱구라는 이름을 사용하셨다는 것을 인지하고 있습니다. 하지만 여러분이 짱구라는 실제 신원에 대해서는 알 수 없습니다. 제가 여러분을 도와드릴 수 있는 다른 질문이나 이야기가 있으시면 말씀해주세요. 어떤 도움이 필요하신가요? 함께 대화를 이어가요!\n"
     ]
    }
   ],
   "source": [
    "result = chatbot.invoke({\"input\": \"저는 누구라구요?\"}, config={'configurable': {'session_id': \"session1\"}})\n",
    "print(result)"
   ]
  },
  {
   "cell_type": "markdown",
   "id": "875f2a87",
   "metadata": {},
   "source": [
    "요약 메모리 구현(대화내용 자동 요약)\n",
    "```\n",
    "긴 대화내용을 모두 프롬프트에 기록하는 것은 비 효율적 -> 프롬프트의 길이 제한에 걸릴 가능성이 있음\n",
    "Conversation Summary Memory\n",
    "0.3x 버전에서는 직접 요약용 체인을 만들어서 ChatMessageHistory에 적용\n",
    "```\n",
    "어떻게 요약?\n",
    "```\n",
    "- 일정길이 이상으로 대화가 누적되면, 과거 대화를 요약해서 핵심내용만 남김\n",
    "- 요약결과를 메모리에 시스템 메세지 등으로 저장->메모리 절약\n",
    "- 새로운 사용자 입력시 요약된 맥락 + 최근 및 메시지만 참고해서 llm 전달\n",
    "```"
   ]
  },
  {
   "cell_type": "code",
   "execution_count": 30,
   "id": "90a7ddcb",
   "metadata": {},
   "outputs": [],
   "source": [
    "# 요약용 프롬프트 템플릿\n",
    "summary_prompt = ChatPromptTemplate.from_messages([\n",
    "    (\"system\", \"당신은 뛰어난 한국어 상담 챗봇입니다. 다음 대화 내용을 요약해주세요.\"),\n",
    "    (\"human\", \"{conversation}\")\n",
    "])\n",
    "# 요약 체인\n",
    "summary_chain = summary_prompt | llm | StrOutputParser()"
   ]
  },
  {
   "cell_type": "code",
   "execution_count": 33,
   "id": "f80a764c",
   "metadata": {},
   "outputs": [
    {
     "name": "stdout",
     "output_type": "stream",
     "text": [
      "17:49:25 httpx INFO   HTTP Request: POST https://api.openai.com/v1/chat/completions \"HTTP/1.1 200 OK\"\n",
      "== 요약내용 ==\n",
      "요약: 짱구님과의 대화에서는 날씨, 운동, 짜장면, 가족과의 시간, 그리고 영화에 대한 이야기가 나눠졌습니다. AI는 상대방의 이야기에 공감하고 함께 대화를 즐기며 소통하는 모습을 보여주었습니다.\n"
     ]
    }
   ],
   "source": [
    "# 전체대화 내용을 요약하고 마지막 사용자 질문-답변 쌍만 원본 유지\n",
    "from langchain_core.messages import AIMessage, HumanMessage, SystemMessage\n",
    "# 요약 대상 대화내용 추출(마지막 QA 쌍 제외한 이전 내용)\n",
    "message = store[session_id].messages\n",
    "\n",
    "if len(message) > 2:\n",
    "    original_dialog = '\\n'.join([f'{msg.type.upper()}: {msg.content}' for msg in message[:-2]])\n",
    "else:\n",
    "    original_dialog = '\\n'.join([f'{msg.type.upper()}: {msg.content}' for msg in message])\n",
    "\n",
    "# llm으로 요약 생성\n",
    "summary_text = summary_chain.invoke({\"conversation\": original_dialog})\n",
    "print(\"== 요약내용 ==\")\n",
    "print(summary_text)\n",
    "# 요약된 내용과 마지막 QA 쌍을 합쳐서 새로운 대화 기록 생성\n",
    "new_history = InMemoryChatMessageHistory()\n",
    "new_history.messages.append(SystemMessage(content=f'요약:{summary_text}'))\n",
    "# 최근 대화의 마지막 QA쌍 복원\n",
    "if len(message) >= 2:\n",
    "    last_user_message = message[-2]\n",
    "    last_ai_message = message[-2]\n",
    "    if isinstance(last_user_message, HumanMessage):\n",
    "        new_history.add_user_message(last_user_message.content)\n",
    "    else:\n",
    "        new_history.messages.append(last_ai_message)\n",
    "#메모리 교체\n",
    "store[session_id] = new_history"
   ]
  },
  {
   "cell_type": "code",
   "execution_count": 34,
   "id": "f1945cc9",
   "metadata": {},
   "outputs": [
    {
     "data": {
      "text/plain": [
       "2"
      ]
     },
     "execution_count": 34,
     "metadata": {},
     "output_type": "execute_result"
    }
   ],
   "source": [
    "len(store[session_id].messages)  # 새로운 대화 기록의 메시지 개수 확인"
   ]
  },
  {
   "cell_type": "code",
   "execution_count": 32,
   "id": "c09e07a7",
   "metadata": {},
   "outputs": [
    {
     "name": "stdout",
     "output_type": "stream",
     "text": [
      "17:26:05 httpx INFO   HTTP Request: POST https://api.openai.com/v1/chat/completions \"HTTP/1.1 200 OK\"\n",
      "Session user_d - 질문: 안녕하세요, 나는 짱구 임. 오늘은 날씨가 참 좋네요. 당신은 어때요?\n",
      "Session user_d - 답변: 안녕하세요, 짱구님. 날씨가 좋다니 다행입니다! 제가 날씨를 느끼진 않지만, 여러분이 좋은 날씨를 즐기고 계시다니 기쁩니다. 혹시 더 궁금한 것이 있으시면 언제든지 물어보세요. 함께 대화를 나누는 것을 즐기겠습니다. 😊\n",
      "17:26:07 httpx INFO   HTTP Request: POST https://api.openai.com/v1/chat/completions \"HTTP/1.1 200 OK\"\n",
      "Session user_d - 질문: 저는 오늘 아침에 일찍 일어나서 운동을 했어요. 당신은 운동 좋아하세요?\n",
      "Session user_d - 답변: 운동을 즐기시는 짱구님, 멋지십니다! 운동은 건강에 좋고 기분을 좋게 만들어주는 좋은 습관이에요. 제가 운동을 즐기진 않지만, 많은 분들이 운동을 통해 건강을 유지하고 스트레스를 해소하는 데 도움을 받는다고 해요. 짱구님은 어떤 종류의 운동을 즐기시나요? 함께 이야기를 나누며 즐거운 시간 보내보아요. 😊\n",
      "17:26:09 httpx INFO   HTTP Request: POST https://api.openai.com/v1/chat/completions \"HTTP/1.1 200 OK\"\n",
      "Session user_d - 질문: 점심으로는 짜장면을 먹었는데, 정말 맛있었어요. 당신은 점심으로 뭐 드셨나요?\n",
      "Session user_d - 답변: 짱구님, 짜장면 맛있게 드셨군요! 제가 먹는 것은 없지만, 짜장면은 많은 분들이 좋아하는 음식 중 하나에요. 짜장면의 풍부한 맛과 향기를 상상해보며 대화를 나누는 것도 즐거운 시간이 될 것 같아요. 짱구님, 다음에는 또 어떤 맛있는 음식을 드시고 싶으신가요? 함께 대화를 나누는 걸 즐기는 저로서는 궁금해요. 😊\n",
      "17:26:12 httpx INFO   HTTP Request: POST https://api.openai.com/v1/chat/completions \"HTTP/1.1 200 OK\"\n",
      "Session user_d - 질문: 저녁에는 가족과 함께 시간을 보냈어요. 가족과의 시간은 언제나 소중하죠.\n",
      "Session user_d - 답변: 가족과 함께 보내는 소중한 시간, 짱구님께서 그런 시간을 가졌다니 참으로 행복한 일이에요. 가족과 함께 보내는 시간은 정말 소중하고 특별한 시간이죠. 서로의 이야기를 듣고 웃음과 감동을 나누며 가족들과 함께하는 시간은 마음이 풍요로워지게 해줍니다. 짱구님의 소중한 가족과의 시간이 항상 행복하고 따뜻하길 바랍니다. 어떤 이야기든 함께 공유하고 싶으시면 언제든지 말씀해주세요. 함께 대화를 즐기며 소통해보아요. 😊\n",
      "17:26:15 httpx INFO   HTTP Request: POST https://api.openai.com/v1/chat/completions \"HTTP/1.1 200 OK\"\n",
      "Session user_d - 질문: 내일은 친구들과 영화 보러 갈 예정이에요. 어떤 영화를 볼지 고민 중이에요.\n",
      "Session user_d - 답변: 친구들과 영화를 보러 가는 건 정말 즐거운 계획이에요! 어떤 영화를 볼지 선택하는 건 항상 즐거운 고민이죠. 현재 상영 중인 영화 중에서는 어떤 장르를 선호하시나요? 로맨스, 액션, 코미디, 스릴러 등 다양한 장르의 영화들이 상영 중이니, 친구들과 함께 보고 싶은 장르나 주제에 맞는 영화를 선택해보시는 것도 좋을 것 같아요. 영화를 보고 나서 친구들과 함께 이야기를 나누는 것도 즐거운 시간이 될 거예요. 즐거운 영화 시간 보내시고, 어떤 영화를 선택하셨는지 궁금해요! 함께 대화를 나누며 즐거운 시간 보내세요. 😊\n",
      "요약전 user_d의 메모리 메세지 개수 : 20\n",
      "Human: 안녕하세요, 나는 짱구 임. 오늘은 날씨가 참 좋네요. 당신은 어때요?\n",
      "AI: 안녕하세요, 짱구님. 날씨가 좋다니 다행입니다! 제가 날씨를 느끼진 않지만, 여러분이 좋은 날씨를 즐기고 계시다니 기쁩니다. 혹시 더 궁금한 것이 있으시면 언제든지 물어보세요. 함께 대화를 나누는 것을 즐기겠습니다. 😊\n",
      "Human: 저는 오늘 아침에 일찍 일어나서 운동을 했어요. 당신은 운동 좋아하세요?\n",
      "AI: 운동을 즐기시는 짱구님, 멋지십니다! 제가 운동을 즐기진 않지만, 운동은 건강에 좋고 기분을 좋게 만들어주는 좋은 습관이에요. 꾸준한 운동은 몸과 마음에 모두 좋은 영향을 줄 수 있습니다. 짱구님은 어떤 운동을 즐기시나요? 함께 이야기 나누는 걸 즐기는 저로서는 궁금해요. 😊\n",
      "Human: 점심으로는 짜장면을 먹었는데, 정말 맛있었어요. 당신은 점심으로 뭐 드셨나요?\n",
      "AI: 짱구님, 짜장면 맛있게 드셨군요! 제가 먹는 것은 없지만, 짜장면은 많은 분들이 좋아하는 음식 중 하나에요. 제가 드시는 건 없지만, 짜장면의 풍부한 맛과 향기를 상상해보며 대화를 나누고 싶네요. 짱구님, 다음에는 또 어떤 맛있는 음식을 드시고 싶으신가요? 함께 대화를 나누는 걸 즐기는 저로서는 궁금해요. 😊\n",
      "Human: 저녁에는 가족과 함께 시간을 보냈어요. 가족과의 시간은 언제나 소중하죠.\n",
      "AI: 가족과 함께 보내는 소중한 시간, 짱구님께서 그런 시간을 가졌다니 참으로 행복한 일이에요. 가족과 함께 보내는 시간은 정말 소중하고 특별한 시간이죠. 서로의 이야기를 듣고 웃음과 감동을 나누며 가족들과 함께하는 시간은 마음이 풍요로워지게 해줍니다. 짱구님의 소중한 가족과의 시간이 항상 행복하고 따뜻하길 바랍니다. 어떤 이야기든 함께 공유하고 싶으시면 언제든지 말씀해주세요. 함께 대화를 즐기며 소통해보아요. 😊\n",
      "Human: 내일은 친구들과 영화 보러 갈 예정이에요. 어떤 영화를 볼지 고민 중이에요.\n",
      "AI: 친구들과 영화를 보러 가는 건 정말 즐거운 계획이네요! 어떤 영화를 볼지 선택하는 건 항상 즐거운 고민이죠. 현재 상영 중인 영화 중에서는 어떤 장르를 선호하시나요? 로맨스, 액션, 코미디, 스릴러 등 다양한 장르의 영화들이 상영 중이니, 친구들과 함께 보고 싶은 장르나 주제에 맞는 영화를 선택해보시는 것도 좋을 것 같아요. 영화를 보고 나서 친구들과 함께 이야기를 나누는 것도 즐거운 시간이 될 거예요. 즐거운 영화 시간 보내시고, 어떤 영화를 선택하셨는지 궁금해요! 함께 대화를 나누며 즐거운 시간 보내세요. 😊\n",
      "Human: 안녕하세요, 나는 짱구 임. 오늘은 날씨가 참 좋네요. 당신은 어때요?\n",
      "AI: 안녕하세요, 짱구님. 날씨가 좋다니 다행입니다! 제가 날씨를 느끼진 않지만, 여러분이 좋은 날씨를 즐기고 계시다니 기쁩니다. 혹시 더 궁금한 것이 있으시면 언제든지 물어보세요. 함께 대화를 나누는 것을 즐기겠습니다. 😊\n",
      "Human: 저는 오늘 아침에 일찍 일어나서 운동을 했어요. 당신은 운동 좋아하세요?\n",
      "AI: 운동을 즐기시는 짱구님, 멋지십니다! 운동은 건강에 좋고 기분을 좋게 만들어주는 좋은 습관이에요. 제가 운동을 즐기진 않지만, 많은 분들이 운동을 통해 건강을 유지하고 스트레스를 해소하는 데 도움을 받는다고 해요. 짱구님은 어떤 종류의 운동을 즐기시나요? 함께 이야기를 나누며 즐거운 시간 보내보아요. 😊\n",
      "Human: 점심으로는 짜장면을 먹었는데, 정말 맛있었어요. 당신은 점심으로 뭐 드셨나요?\n",
      "AI: 짱구님, 짜장면 맛있게 드셨군요! 제가 먹는 것은 없지만, 짜장면은 많은 분들이 좋아하는 음식 중 하나에요. 짜장면의 풍부한 맛과 향기를 상상해보며 대화를 나누는 것도 즐거운 시간이 될 것 같아요. 짱구님, 다음에는 또 어떤 맛있는 음식을 드시고 싶으신가요? 함께 대화를 나누는 걸 즐기는 저로서는 궁금해요. 😊\n",
      "Human: 저녁에는 가족과 함께 시간을 보냈어요. 가족과의 시간은 언제나 소중하죠.\n",
      "AI: 가족과 함께 보내는 소중한 시간, 짱구님께서 그런 시간을 가졌다니 참으로 행복한 일이에요. 가족과 함께 보내는 시간은 정말 소중하고 특별한 시간이죠. 서로의 이야기를 듣고 웃음과 감동을 나누며 가족들과 함께하는 시간은 마음이 풍요로워지게 해줍니다. 짱구님의 소중한 가족과의 시간이 항상 행복하고 따뜻하길 바랍니다. 어떤 이야기든 함께 공유하고 싶으시면 언제든지 말씀해주세요. 함께 대화를 즐기며 소통해보아요. 😊\n",
      "Human: 내일은 친구들과 영화 보러 갈 예정이에요. 어떤 영화를 볼지 고민 중이에요.\n",
      "AI: 친구들과 영화를 보러 가는 건 정말 즐거운 계획이에요! 어떤 영화를 볼지 선택하는 건 항상 즐거운 고민이죠. 현재 상영 중인 영화 중에서는 어떤 장르를 선호하시나요? 로맨스, 액션, 코미디, 스릴러 등 다양한 장르의 영화들이 상영 중이니, 친구들과 함께 보고 싶은 장르나 주제에 맞는 영화를 선택해보시는 것도 좋을 것 같아요. 영화를 보고 나서 친구들과 함께 이야기를 나누는 것도 즐거운 시간이 될 거예요. 즐거운 영화 시간 보내시고, 어떤 영화를 선택하셨는지 궁금해요! 함께 대화를 나누며 즐거운 시간 보내세요. 😊\n"
     ]
    }
   ],
   "source": [
    "# user_d 세션에 대화내용을 기록 긴 대화 생성\n",
    "long_queries = [\n",
    "    \"안녕하세요, 나는 짱구 임. 오늘은 날씨가 참 좋네요. 당신은 어때요?\",\n",
    "    \"저는 오늘 아침에 일찍 일어나서 운동을 했어요. 당신은 운동 좋아하세요?\",\n",
    "    \"점심으로는 짜장면을 먹었는데, 정말 맛있었어요. 당신은 점심으로 뭐 드셨나요?\",\n",
    "    \"저녁에는 가족과 함께 시간을 보냈어요. 가족과의 시간은 언제나 소중하죠.\",\n",
    "    \"내일은 친구들과 영화 보러 갈 예정이에요. 어떤 영화를 볼지 고민 중이에요.\"\n",
    "]\n",
    "session_id = \"user_d\"\n",
    "for q in long_queries:\n",
    "    result = chatbot.invoke({\"input\": q}, config={'configurable': {'session_id': session_id}})\n",
    "    print(f\"Session {session_id} - 질문: {q}\")\n",
    "    print(f\"Session {session_id} - 답변: {result}\")\n",
    "\n",
    "print(f'요약전 user_d의 메모리 메세지 개수 : {len(get_session_history(session_id).messages)}')\n",
    "# 요약할 대화 내용 가져오기\n",
    "print(store[session_id])"
   ]
  },
  {
   "cell_type": "code",
   "execution_count": null,
   "id": "b8f91b6c",
   "metadata": {},
   "outputs": [],
   "source": []
  }
 ],
 "metadata": {
  "kernelspec": {
   "display_name": "LLM",
   "language": "python",
   "name": "python3"
  },
  "language_info": {
   "codemirror_mode": {
    "name": "ipython",
    "version": 3
   },
   "file_extension": ".py",
   "mimetype": "text/x-python",
   "name": "python",
   "nbconvert_exporter": "python",
   "pygments_lexer": "ipython3",
   "version": "3.13.2"
  }
 },
 "nbformat": 4,
 "nbformat_minor": 5
}
