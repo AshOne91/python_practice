{
 "cells": [
  {
   "cell_type": "code",
   "execution_count": 1,
   "id": "07a1841f-a974-4555-b1fb-72c05ccbce85",
   "metadata": {
    "collapsed": true,
    "jupyter": {
     "outputs_hidden": true
    }
   },
   "outputs": [
    {
     "name": "stdout",
     "output_type": "stream",
     "text": [
      "Requirement already satisfied: selenium in c:\\users\\user\\anaconda3\\envs\\db\\lib\\site-packages (4.29.0)\n",
      "Requirement already satisfied: urllib3<3,>=1.26 in c:\\users\\user\\anaconda3\\envs\\db\\lib\\site-packages (from urllib3[socks]<3,>=1.26->selenium) (2.3.0)\n",
      "Requirement already satisfied: trio~=0.17 in c:\\users\\user\\anaconda3\\envs\\db\\lib\\site-packages (from selenium) (0.29.0)\n",
      "Requirement already satisfied: trio-websocket~=0.9 in c:\\users\\user\\anaconda3\\envs\\db\\lib\\site-packages (from selenium) (0.12.2)\n",
      "Requirement already satisfied: certifi>=2021.10.8 in c:\\users\\user\\anaconda3\\envs\\db\\lib\\site-packages (from selenium) (2025.1.31)\n",
      "Requirement already satisfied: typing_extensions~=4.9 in c:\\users\\user\\anaconda3\\envs\\db\\lib\\site-packages (from selenium) (4.12.2)\n",
      "Requirement already satisfied: websocket-client~=1.8 in c:\\users\\user\\anaconda3\\envs\\db\\lib\\site-packages (from selenium) (1.8.0)\n",
      "Requirement already satisfied: attrs>=23.2.0 in c:\\users\\user\\anaconda3\\envs\\db\\lib\\site-packages (from trio~=0.17->selenium) (24.3.0)\n",
      "Requirement already satisfied: sortedcontainers in c:\\users\\user\\anaconda3\\envs\\db\\lib\\site-packages (from trio~=0.17->selenium) (2.4.0)\n",
      "Requirement already satisfied: idna in c:\\users\\user\\anaconda3\\envs\\db\\lib\\site-packages (from trio~=0.17->selenium) (3.7)\n",
      "Requirement already satisfied: outcome in c:\\users\\user\\anaconda3\\envs\\db\\lib\\site-packages (from trio~=0.17->selenium) (1.3.0.post0)\n",
      "Requirement already satisfied: sniffio>=1.3.0 in c:\\users\\user\\anaconda3\\envs\\db\\lib\\site-packages (from trio~=0.17->selenium) (1.3.0)\n",
      "Requirement already satisfied: cffi>=1.14 in c:\\users\\user\\anaconda3\\envs\\db\\lib\\site-packages (from trio~=0.17->selenium) (1.17.1)\n",
      "Requirement already satisfied: wsproto>=0.14 in c:\\users\\user\\anaconda3\\envs\\db\\lib\\site-packages (from trio-websocket~=0.9->selenium) (1.2.0)\n",
      "Requirement already satisfied: pysocks!=1.5.7,<2.0,>=1.5.6 in c:\\users\\user\\anaconda3\\envs\\db\\lib\\site-packages (from urllib3[socks]<3,>=1.26->selenium) (1.7.1)\n",
      "Requirement already satisfied: pycparser in c:\\users\\user\\anaconda3\\envs\\db\\lib\\site-packages (from cffi>=1.14->trio~=0.17->selenium) (2.21)\n",
      "Requirement already satisfied: h11<1,>=0.9.0 in c:\\users\\user\\anaconda3\\envs\\db\\lib\\site-packages (from wsproto>=0.14->trio-websocket~=0.9->selenium) (0.14.0)\n"
     ]
    }
   ],
   "source": [
    "!pip install selenium"
   ]
  },
  {
   "cell_type": "code",
   "execution_count": 3,
   "id": "91bfdea3-202c-4a66-a4b5-915e860172b8",
   "metadata": {
    "scrolled": true
   },
   "outputs": [
    {
     "name": "stdout",
     "output_type": "stream",
     "text": [
      "페이지 제목: Google\n"
     ]
    }
   ],
   "source": [
    "from selenium import webdriver\n",
    "driver = webdriver.Chrome()\n",
    "# Chrome 브라우저 열기\n",
    "driver.get(\"https://www.google.com\")\n",
    "print(\"페이지 제목:\", driver.title)\n",
    "# 브라우저 종료\n",
    "driver.quit()"
   ]
  },
  {
   "cell_type": "code",
   "execution_count": 5,
   "id": "db3d480d-e851-41ec-808e-f2ca35ca3b09",
   "metadata": {},
   "outputs": [
    {
     "name": "stdout",
     "output_type": "stream",
     "text": [
      "찾은 텍스트: Documentation\n"
     ]
    }
   ],
   "source": [
    "from selenium import webdriver\n",
    "from selenium.webdriver.common.by import By\n",
    "\n",
    "driver = webdriver.Chrome()\n",
    "driver.get(\"https://www.selenium.dev\")\n",
    "doc_link = driver.find_element(By.LINK_TEXT, \"Documentation\")\n",
    "print(\"찾은 텍스트:\", doc_link.text)\n",
    "\n",
    "# 브라우저 종료\n",
    "driver.quit()"
   ]
  },
  {
   "cell_type": "code",
   "execution_count": 10,
   "id": "47bbaf38-9bc8-48ab-ba4a-1734413de126",
   "metadata": {},
   "outputs": [
    {
     "name": "stdout",
     "output_type": "stream",
     "text": [
      "찾은 텍스트: Registrations Open for SeleniumConf 2025 | March 26–28 | Join Us In-Person! Register now!\n"
     ]
    }
   ],
   "source": [
    "from selenium import webdriver\n",
    "from selenium.webdriver.common.by import By\n",
    "\n",
    "driver = webdriver.Chrome()\n",
    "driver.get(\"https://www.selenium.dev\")\n",
    "doc_link = driver.find_element(By.CLASS_NAME, \n",
    "                               \"alert-heading\")\n",
    "print(\"찾은 텍스트:\", doc_link.text)\n",
    "\n",
    "# 브라우저 종료\n",
    "driver.quit()"
   ]
  },
  {
   "cell_type": "code",
   "execution_count": 11,
   "id": "84a43b2b-ef97-452c-b12e-6a8c7c58d341",
   "metadata": {},
   "outputs": [
    {
     "name": "stdout",
     "output_type": "stream",
     "text": [
      "찾은 텍스트: Selenium IDE\n"
     ]
    }
   ],
   "source": [
    "from selenium import webdriver\n",
    "from selenium.webdriver.common.by import By\n",
    "\n",
    "driver = webdriver.Chrome()\n",
    "driver.get(\"https://www.selenium.dev\")\n",
    "doc_link = driver.find_element(By.XPATH, \n",
    "                               \"/html/body/div/main/section[2]/div/div/div[2]/div/div[1]/h4\")\n",
    "print(\"찾은 텍스트:\", doc_link.text)\n",
    "\n",
    "# 브라우저 종료\n",
    "driver.quit()"
   ]
  },
  {
   "cell_type": "code",
   "execution_count": 20,
   "id": "b3e67407-ef73-4245-ba6a-e8ae607e1da9",
   "metadata": {},
   "outputs": [],
   "source": [
    "from selenium import webdriver\n",
    "from selenium.webdriver.common.by import By\n",
    "import time\n",
    "\n",
    "driver = webdriver.Chrome()\n",
    "driver.get(\"https://www.naver.com/\")\n",
    "button = driver.find_element(By.XPATH, \n",
    "                               '//*[@id=\"account\"]/div/a')\n",
    "\n",
    "button.click()  # 로그인창\n",
    "time.sleep(1) # 화면이 다 뜰때까지 대기\n",
    "\n",
    "input_name = driver.find_element(By.XPATH,'//*[@id=\"id\"]')\n",
    "input_name.send_keys('abc') # 아이디\n",
    "time.sleep(1)\n",
    "\n",
    "psw_name = driver.find_element(By.XPATH,'//*[@id=\"pw\"]')\n",
    "psw_name.send_keys('abc') # 패스워드\n",
    "time.sleep(1)\n",
    "\n",
    "login_button = driver.find_element(By.XPATH, \n",
    "                               '//*[@id=\"log.login\"]') #로그인 버튼\n",
    "time.sleep(1)\n",
    "login_button.click()  # 버튼 클릭\n",
    "\n",
    "# 브라우저 종료\n",
    "time.sleep(2)\n",
    "driver.quit()"
   ]
  },
  {
   "cell_type": "code",
   "execution_count": 24,
   "id": "7aa8d3d7-9a45-448a-90b3-19b16ea4161b",
   "metadata": {},
   "outputs": [],
   "source": [
    "from selenium import webdriver\n",
    "import time\n",
    "\n",
    "driver = webdriver.Chrome()\n",
    "# Chrome 브라우저 열기\n",
    "driver.get(\"https://www.naver.com\")\n",
    "search_button = driver.find_element(By.XPATH, '//*[@id=\"query\"]') \n",
    "search_button.send_keys('오늘의 날씨')\n",
    "search_button.submit()\n",
    "\n",
    "time.sleep(10)\n",
    "# 브라우저 종료\n",
    "driver.quit()"
   ]
  },
  {
   "cell_type": "code",
   "execution_count": 27,
   "id": "504c4e60-ba15-4dd4-bcaa-140125b179c3",
   "metadata": {},
   "outputs": [],
   "source": [
    "from selenium import webdriver\n",
    "import time\n",
    "driver = webdriver.Chrome()\n",
    "driver.get(\"https://www.naver.com\")\n",
    "time.sleep(5)\n",
    "driver.execute_script(\"window.scrollTo(0, document.body.scrollHeight);\")\n",
    "time.sleep(5)\n",
    "driver.quit()"
   ]
  },
  {
   "cell_type": "markdown",
   "id": "7946e85e-e93f-4815-b29b-c43a0803916b",
   "metadata": {},
   "source": [
    "# 셀리니움 + 뷰티플숍"
   ]
  },
  {
   "cell_type": "code",
   "execution_count": 37,
   "id": "9bf69f1a-3f60-498e-885e-75a5dc40b52d",
   "metadata": {},
   "outputs": [
    {
     "name": "stdout",
     "output_type": "stream",
     "text": [
      "[속보] 홈플러스 “3400억원 지급완료…현금 1600억원 보유”\n",
      "[속보]崔대행, 명태균특검법 헌법 훼손 우려 거부권 행사…檢, 성역 없이 신속·공정하게 수사해야\"\n",
      "[단독] 민주당 '과학기술정보통신AI부' 설립·부총리급 격상 추진\n",
      "달걀 찾아나선 美…한국농장 첫 수출 성공\n",
      "[속보] 崔대행, 명태균 특검법안 거부권 행사... “위헌성 상당하다”\n",
      "고맙다, ‘폭싹 속았수다’···제주, 글로벌 홍보 나선다\n",
      "애플에 치인 삼성…오매불망 '갤럭시S25 엣지' [DD전자]\n",
      "\"목표는 AI 3대 강국, 현실은 10위권 밖\"…어디부터 손봐야 할까\n",
      "최재해 '전원일치' 기각에…민주당, 최상목·심우정 탄핵 더 부담스러워졌다\n",
      "최상목, '명태균 특검법' 거부권 행사...\"위헌성 상당, 형사법 근간 훼손 우려\"\n",
      "최상목 대행, ‘명태균 특검법’ 재의요구권 행사… “위헌성 상당”\n",
      "尹탄핵 선고 앞두고 '탄핵 찬성' 58%·반대 37%[한국갤럽]\n",
      "[속보] 최상목 권한대행, '명태균 특검법' 거부권 행사\n",
      "이진숙이 강행한 방문진 이사 임명, 법원 집행정지 확정\n",
      "‘63kg 감량’ 日 30대 남성, 살 뺀 후 인플루언서로 인생역전… 대체 어떻게?\n",
      "[속보] 최상목, ‘명태균 특검법’ 거부권 행사…2개월 만에 8번째\n",
      "최 대행, '명태균 특검법' 거부권…\"위헌성 상당\"\n",
      "최대행, 명태균 특검법에 거부권…“위헌성 상당”\n",
      "홈플러스 입점사·‘전단채’ 투자한 노인들 날벼락\n",
      "[동영상] 베이비붐 세대, 상속세 쓰나미 몰려온다?\n",
      "[제주 날씨] 강풍·풍랑 주의, 주말 동안 최대 '50mm' 비\n",
      "기암괴석 전시장 팔색조 같은 팔봉 [서울 4대 스릴 만점 코스 관악산]\n",
      "헌재, 대통령 탄핵심판 숙고 계속...최장 기간 평의\n",
      "트럼프 러-우 종전 급발진, 민주주의 부작용\n",
      "기아에서도 보수 받는 정의선, 신동빈 제치고 연봉킹 오를까\n",
      "崔대행, 명태균특검법 재의요구…\"헌법·형사법 훼손 우려\"\n",
      "‘기후를 퀴어링’하는 에코페미니즘\n",
      "홈플러스 \"회생절차 피해 사과…반드시 모든 채권 상환할 것\"\n",
      "최상목 '명태균 특검법' 거부권…\"검찰은 명운 걸고 수사하라\"\n",
      "권성동 “李, 한덕수·박성재 탄핵 기각 뻔하니 탄핵소추 철회하라”\n",
      "Private education spending hits all-time high of 29 trillion won despite fewer students, gov't measures\n",
      "崔 대행, 명태균 특별법 거부권 행사…“헌법 훼손 우려”\n",
      "[속보]  崔대행, 명태균 특검법 재의요구권… \"검찰, 의혹 수사해야\"\n",
      "Assembly passes bill to expand corporate board’s fiduciary duty to shareholders\n",
      "[속보] 최상목 대행, ‘명태균특검법’ 재의요구…“위헌·형사법 훼손 우려”\n",
      "홈플러스, 상거래채권 3400억 지급…\"소상공인 먼저, 대기업은 양보 부탁\"\n",
      "최상목, ‘명태균 특검법’ 거부권 행사… “위헌 소지 크다”\n",
      "[주간 뉴스타파] 7천억대 정부 계약에 명태균과 'VIP' 등장\n",
      "우울증 갤러리서 만난 여중·고생들 성폭행한 20대 남성들\n",
      "[속보]尹파면 58% 복귀37%…이재명 34% 김문수 10%[갤럽]\n",
      "崔대행, 명태균 특검법에 거부권…\"위헌성 상당, 형사법 근간 훼손 우려\"\n",
      "[다날 유동성 점검]① 3700억 빚 대부분 올해 만기 '초읽기' [넘버스]\n",
      "종합병원 건물 로비서 돌연 흉기 휘두른 40대 체포, 범행 이유가?\n",
      "[속보] 최 대행, 명태균특검법 재의요구…\"헌법·형사법 훼손 우려\"\n",
      "[속보]정권유지 41%-정권교체 51%…尹석방 후 격차 줄었다 [갤럽]\n",
      "이재명 “국회 투입 軍 지휘관·병사 포상해야…尹 명령에 태업”\n",
      "[속보] 崔대행, 명태균특검법 재의요구…\"헌법·형사법 훼손 우려\"\n",
      "최 대행, 명태균 특검법 거부권…\"검찰, 명운 걸어야\"\n",
      "오늘도 포근한 봄 날씨…일교차 크고 대기 건조\n",
      "종합병원 로비서 흉기 휘두른 30대 女.. 경비원 다쳐\n",
      "'핫'하다던 한화그룹 제쳤다…한달수익률 26% '후끈'\n",
      "최상목, '명태균 특검법' 거부…\"검찰, 명운 걸고 수사해야\"\n",
      "베일 벗는' 재사용 차세대발사체' 변경 계획…엔진방식·연료 다 바꾼다\n",
      "오직 윤석열 위해… 심우정의 맞춤형 포기, 또 포기\n",
      "“함부로 뽀뽀하면 안돼”...한쪽 눈 실명한 2세, 뽀뽀로 ‘이것’ 감염됐다?\n",
      "물가 관리 느슨해지자 햄버거도 커피도 \"가격 올려요\"…서민들 '비상'\n",
      "최상목 권한대행, '명태균 특검법' 재의요구권 행사\n",
      "헌재, 검사 탄핵 기각했지만 \"김건희 수사 적절했는지 의문\"\n",
      "崔대행, 명태균특검법 재의요구…\"헌법·형사법 훼손 우려\"\n",
      "[속보] 최상목, '명태균 특검법' 거부권 행사\n",
      "[속보] 명태균 특검법 거부권 행사한 최상목 “헌법·형사법 원칙 훼손”\n",
      "유승민 \"尹 구속취소, 검찰이 즉시항고했어야…지금이라도 하라\"\n",
      "민주당, 오늘 광화문서 '尹 파면' 촉구 현장 최고위원회\n",
      "[속보]홈플러스, \"소상공인과 영세업자 채권 우선 지급 중…대기업 양해 바라\"\n",
      "취업자 두달 연속 증가했는데, 청년실업은 왜… [아카이브]\n",
      "1년 만에 배당 재개한 교보생명…숨통 트인 신창재 회장\n",
      "'5대 3' 혹은 '6대 2' 대결?…\"1명이 尹 운명 가를 듯\" [뉴스캐비닛]\n",
      "당첨되면 '5억원'…'전국민 줍줍' 나온 이 단지는?\n",
      "[단독]\"홈플러스 다 막았다\" 사상 첫 전업 카드사 결제중단‥금감원 예의주시(종합)\n",
      "최상목 권한대행, '명태균 특검법' 거부권 행사…\"위헌성 상당\"\n",
      "[속보] 최상목, 명태균특검법 거부권 행사…\"검찰, 명운걸고 수사\"\n",
      "[속보] 최상목 '명태균 특검법'도 거부권... 벌써 8번째 행사\n",
      "이건희라면 이재용처럼 했을까\n",
      "서울 치안, 내란 가담자들 손에...윤석열의 꿍꿍이 [김형남의 갑을,병정]\n",
      "두산에너, 사우디서 8900억 규모 잭팟… 가스복합발전소 사업 수주\n",
      "[속보]崔대행, ‘명태균 특검법’ 거부권…“檢, 명운걸고 성역없이 수사하라”\n",
      "'문제 터지면 그대로 끝' 초유의 상황…줄줄이 '파산 공포' [돈앤톡]\n",
      "최상목 대행, ‘명태균 특검법’ 재의요구… 8번째 거부권\n",
      "범용 반도체 가격 상승 ... 반도체 업황 회복 신호인가\n",
      "이재명, 3선 의원들 만나 통합 당부...'尹 탄핵 백서' 제작하기로\n",
      "[충북·세종 날씨] 대체로 맑다가 밤부터 흐림...한낮 포근·큰 일교차 계속\n",
      "전공의 3명 중 2명 수도권 병원에...쏠림현상 더 심화\n"
     ]
    }
   ],
   "source": [
    "from selenium import webdriver\n",
    "from selenium.webdriver.common.by import By\n",
    "from bs4 import BeautifulSoup\n",
    "import time\n",
    "\n",
    "url = 'https://www.naver.com/'\n",
    "driver = webdriver.Chrome()\n",
    "driver.get(url)\n",
    "time.sleep(1)\n",
    "\n",
    "news = driver.find_element(By.XPATH, '//*[@id=\"shortcutArea\"]/ul/li[5]/a/span[1]')\n",
    "news.click()\n",
    "time.sleep(1)\n",
    "\n",
    "'뉴스 탭으로 이동'\n",
    "driver.switch_to.window(driver.window_handles[1])\n",
    "time.sleep(2)\n",
    "\n",
    "html = driver.page_source\n",
    "soup = BeautifulSoup(html,'html.parser')\n",
    "for news_title in soup.select('strong.cnf_news_title'):\n",
    "    print(news_title.text)\n",
    "driver.quit()    \n"
   ]
  },
  {
   "cell_type": "code",
   "execution_count": null,
   "id": "18c9bd5a-6400-4660-947c-f99698e211a5",
   "metadata": {},
   "outputs": [],
   "source": []
  }
 ],
 "metadata": {
  "kernelspec": {
   "display_name": "Python 3 (ipykernel)",
   "language": "python",
   "name": "python3"
  },
  "language_info": {
   "codemirror_mode": {
    "name": "ipython",
    "version": 3
   },
   "file_extension": ".py",
   "mimetype": "text/x-python",
   "name": "python",
   "nbconvert_exporter": "python",
   "pygments_lexer": "ipython3",
   "version": "3.12.9"
  }
 },
 "nbformat": 4,
 "nbformat_minor": 5
}
